{
  "nbformat": 4,
  "nbformat_minor": 0,
  "metadata": {
    "colab": {
      "provenance": [],
      "authorship_tag": "ABX9TyPu3XOP/QguandPitIN15xz",
      "include_colab_link": true
    },
    "kernelspec": {
      "name": "python3",
      "display_name": "Python 3"
    },
    "language_info": {
      "name": "python"
    },
    "widgets": {
      "application/vnd.jupyter.widget-state+json": {
        "52e9d65837ad492084aca88ad8ad85d3": {
          "model_module": "@jupyter-widgets/controls",
          "model_name": "HBoxModel",
          "model_module_version": "1.5.0",
          "state": {
            "_dom_classes": [],
            "_model_module": "@jupyter-widgets/controls",
            "_model_module_version": "1.5.0",
            "_model_name": "HBoxModel",
            "_view_count": null,
            "_view_module": "@jupyter-widgets/controls",
            "_view_module_version": "1.5.0",
            "_view_name": "HBoxView",
            "box_style": "",
            "children": [
              "IPY_MODEL_90f48d5bc92b4493ab914d2f01fe9109",
              "IPY_MODEL_c76d6940b1ad438b9e8086c605fad299",
              "IPY_MODEL_a6fc746836ef4d0bab158a8bba7e566d"
            ],
            "layout": "IPY_MODEL_4761bfde8fd0415d97ced27f1242191b"
          }
        },
        "90f48d5bc92b4493ab914d2f01fe9109": {
          "model_module": "@jupyter-widgets/controls",
          "model_name": "HTMLModel",
          "model_module_version": "1.5.0",
          "state": {
            "_dom_classes": [],
            "_model_module": "@jupyter-widgets/controls",
            "_model_module_version": "1.5.0",
            "_model_name": "HTMLModel",
            "_view_count": null,
            "_view_module": "@jupyter-widgets/controls",
            "_view_module_version": "1.5.0",
            "_view_name": "HTMLView",
            "description": "",
            "description_tooltip": null,
            "layout": "IPY_MODEL_8a5c72f4e98342889dd7378754da25a2",
            "placeholder": "​",
            "style": "IPY_MODEL_f0961eca49e04bd39c13509464cf963a",
            "value": "Summarize dataset: 100%"
          }
        },
        "c76d6940b1ad438b9e8086c605fad299": {
          "model_module": "@jupyter-widgets/controls",
          "model_name": "FloatProgressModel",
          "model_module_version": "1.5.0",
          "state": {
            "_dom_classes": [],
            "_model_module": "@jupyter-widgets/controls",
            "_model_module_version": "1.5.0",
            "_model_name": "FloatProgressModel",
            "_view_count": null,
            "_view_module": "@jupyter-widgets/controls",
            "_view_module_version": "1.5.0",
            "_view_name": "ProgressView",
            "bar_style": "success",
            "description": "",
            "description_tooltip": null,
            "layout": "IPY_MODEL_333e10eee74d4510814495a3f9eb1ef0",
            "max": 5,
            "min": 0,
            "orientation": "horizontal",
            "style": "IPY_MODEL_4394efc33f284b6da7f5d17881cd340d",
            "value": 5
          }
        },
        "a6fc746836ef4d0bab158a8bba7e566d": {
          "model_module": "@jupyter-widgets/controls",
          "model_name": "HTMLModel",
          "model_module_version": "1.5.0",
          "state": {
            "_dom_classes": [],
            "_model_module": "@jupyter-widgets/controls",
            "_model_module_version": "1.5.0",
            "_model_name": "HTMLModel",
            "_view_count": null,
            "_view_module": "@jupyter-widgets/controls",
            "_view_module_version": "1.5.0",
            "_view_name": "HTMLView",
            "description": "",
            "description_tooltip": null,
            "layout": "IPY_MODEL_8863186effa4445686fc660817894ed8",
            "placeholder": "​",
            "style": "IPY_MODEL_fbd5b76ad16c4c33a1bb8bcd6b02d640",
            "value": " 100/100 [00:26&lt;00:00,  2.56it/s, Completed]"
          }
        },
        "4761bfde8fd0415d97ced27f1242191b": {
          "model_module": "@jupyter-widgets/base",
          "model_name": "LayoutModel",
          "model_module_version": "1.2.0",
          "state": {
            "_model_module": "@jupyter-widgets/base",
            "_model_module_version": "1.2.0",
            "_model_name": "LayoutModel",
            "_view_count": null,
            "_view_module": "@jupyter-widgets/base",
            "_view_module_version": "1.2.0",
            "_view_name": "LayoutView",
            "align_content": null,
            "align_items": null,
            "align_self": null,
            "border": null,
            "bottom": null,
            "display": null,
            "flex": null,
            "flex_flow": null,
            "grid_area": null,
            "grid_auto_columns": null,
            "grid_auto_flow": null,
            "grid_auto_rows": null,
            "grid_column": null,
            "grid_gap": null,
            "grid_row": null,
            "grid_template_areas": null,
            "grid_template_columns": null,
            "grid_template_rows": null,
            "height": null,
            "justify_content": null,
            "justify_items": null,
            "left": null,
            "margin": null,
            "max_height": null,
            "max_width": null,
            "min_height": null,
            "min_width": null,
            "object_fit": null,
            "object_position": null,
            "order": null,
            "overflow": null,
            "overflow_x": null,
            "overflow_y": null,
            "padding": null,
            "right": null,
            "top": null,
            "visibility": null,
            "width": null
          }
        },
        "8a5c72f4e98342889dd7378754da25a2": {
          "model_module": "@jupyter-widgets/base",
          "model_name": "LayoutModel",
          "model_module_version": "1.2.0",
          "state": {
            "_model_module": "@jupyter-widgets/base",
            "_model_module_version": "1.2.0",
            "_model_name": "LayoutModel",
            "_view_count": null,
            "_view_module": "@jupyter-widgets/base",
            "_view_module_version": "1.2.0",
            "_view_name": "LayoutView",
            "align_content": null,
            "align_items": null,
            "align_self": null,
            "border": null,
            "bottom": null,
            "display": null,
            "flex": null,
            "flex_flow": null,
            "grid_area": null,
            "grid_auto_columns": null,
            "grid_auto_flow": null,
            "grid_auto_rows": null,
            "grid_column": null,
            "grid_gap": null,
            "grid_row": null,
            "grid_template_areas": null,
            "grid_template_columns": null,
            "grid_template_rows": null,
            "height": null,
            "justify_content": null,
            "justify_items": null,
            "left": null,
            "margin": null,
            "max_height": null,
            "max_width": null,
            "min_height": null,
            "min_width": null,
            "object_fit": null,
            "object_position": null,
            "order": null,
            "overflow": null,
            "overflow_x": null,
            "overflow_y": null,
            "padding": null,
            "right": null,
            "top": null,
            "visibility": null,
            "width": null
          }
        },
        "f0961eca49e04bd39c13509464cf963a": {
          "model_module": "@jupyter-widgets/controls",
          "model_name": "DescriptionStyleModel",
          "model_module_version": "1.5.0",
          "state": {
            "_model_module": "@jupyter-widgets/controls",
            "_model_module_version": "1.5.0",
            "_model_name": "DescriptionStyleModel",
            "_view_count": null,
            "_view_module": "@jupyter-widgets/base",
            "_view_module_version": "1.2.0",
            "_view_name": "StyleView",
            "description_width": ""
          }
        },
        "333e10eee74d4510814495a3f9eb1ef0": {
          "model_module": "@jupyter-widgets/base",
          "model_name": "LayoutModel",
          "model_module_version": "1.2.0",
          "state": {
            "_model_module": "@jupyter-widgets/base",
            "_model_module_version": "1.2.0",
            "_model_name": "LayoutModel",
            "_view_count": null,
            "_view_module": "@jupyter-widgets/base",
            "_view_module_version": "1.2.0",
            "_view_name": "LayoutView",
            "align_content": null,
            "align_items": null,
            "align_self": null,
            "border": null,
            "bottom": null,
            "display": null,
            "flex": null,
            "flex_flow": null,
            "grid_area": null,
            "grid_auto_columns": null,
            "grid_auto_flow": null,
            "grid_auto_rows": null,
            "grid_column": null,
            "grid_gap": null,
            "grid_row": null,
            "grid_template_areas": null,
            "grid_template_columns": null,
            "grid_template_rows": null,
            "height": null,
            "justify_content": null,
            "justify_items": null,
            "left": null,
            "margin": null,
            "max_height": null,
            "max_width": null,
            "min_height": null,
            "min_width": null,
            "object_fit": null,
            "object_position": null,
            "order": null,
            "overflow": null,
            "overflow_x": null,
            "overflow_y": null,
            "padding": null,
            "right": null,
            "top": null,
            "visibility": null,
            "width": null
          }
        },
        "4394efc33f284b6da7f5d17881cd340d": {
          "model_module": "@jupyter-widgets/controls",
          "model_name": "ProgressStyleModel",
          "model_module_version": "1.5.0",
          "state": {
            "_model_module": "@jupyter-widgets/controls",
            "_model_module_version": "1.5.0",
            "_model_name": "ProgressStyleModel",
            "_view_count": null,
            "_view_module": "@jupyter-widgets/base",
            "_view_module_version": "1.2.0",
            "_view_name": "StyleView",
            "bar_color": null,
            "description_width": ""
          }
        },
        "8863186effa4445686fc660817894ed8": {
          "model_module": "@jupyter-widgets/base",
          "model_name": "LayoutModel",
          "model_module_version": "1.2.0",
          "state": {
            "_model_module": "@jupyter-widgets/base",
            "_model_module_version": "1.2.0",
            "_model_name": "LayoutModel",
            "_view_count": null,
            "_view_module": "@jupyter-widgets/base",
            "_view_module_version": "1.2.0",
            "_view_name": "LayoutView",
            "align_content": null,
            "align_items": null,
            "align_self": null,
            "border": null,
            "bottom": null,
            "display": null,
            "flex": null,
            "flex_flow": null,
            "grid_area": null,
            "grid_auto_columns": null,
            "grid_auto_flow": null,
            "grid_auto_rows": null,
            "grid_column": null,
            "grid_gap": null,
            "grid_row": null,
            "grid_template_areas": null,
            "grid_template_columns": null,
            "grid_template_rows": null,
            "height": null,
            "justify_content": null,
            "justify_items": null,
            "left": null,
            "margin": null,
            "max_height": null,
            "max_width": null,
            "min_height": null,
            "min_width": null,
            "object_fit": null,
            "object_position": null,
            "order": null,
            "overflow": null,
            "overflow_x": null,
            "overflow_y": null,
            "padding": null,
            "right": null,
            "top": null,
            "visibility": null,
            "width": null
          }
        },
        "fbd5b76ad16c4c33a1bb8bcd6b02d640": {
          "model_module": "@jupyter-widgets/controls",
          "model_name": "DescriptionStyleModel",
          "model_module_version": "1.5.0",
          "state": {
            "_model_module": "@jupyter-widgets/controls",
            "_model_module_version": "1.5.0",
            "_model_name": "DescriptionStyleModel",
            "_view_count": null,
            "_view_module": "@jupyter-widgets/base",
            "_view_module_version": "1.2.0",
            "_view_name": "StyleView",
            "description_width": ""
          }
        },
        "b13ec18348284892bb8de6ead3f1830c": {
          "model_module": "@jupyter-widgets/controls",
          "model_name": "HBoxModel",
          "model_module_version": "1.5.0",
          "state": {
            "_dom_classes": [],
            "_model_module": "@jupyter-widgets/controls",
            "_model_module_version": "1.5.0",
            "_model_name": "HBoxModel",
            "_view_count": null,
            "_view_module": "@jupyter-widgets/controls",
            "_view_module_version": "1.5.0",
            "_view_name": "HBoxView",
            "box_style": "",
            "children": [
              "IPY_MODEL_c6a1e55935b14f758f6f34890244011d",
              "IPY_MODEL_11b4d87ce3b74ea4b4acb0fcaca56dba",
              "IPY_MODEL_01ac0404023d4bd3927a5843a4c9f3bd"
            ],
            "layout": "IPY_MODEL_5f5f86ab0c384daea57389c8b3f50624"
          }
        },
        "c6a1e55935b14f758f6f34890244011d": {
          "model_module": "@jupyter-widgets/controls",
          "model_name": "HTMLModel",
          "model_module_version": "1.5.0",
          "state": {
            "_dom_classes": [],
            "_model_module": "@jupyter-widgets/controls",
            "_model_module_version": "1.5.0",
            "_model_name": "HTMLModel",
            "_view_count": null,
            "_view_module": "@jupyter-widgets/controls",
            "_view_module_version": "1.5.0",
            "_view_name": "HTMLView",
            "description": "",
            "description_tooltip": null,
            "layout": "IPY_MODEL_a90f5582557d43a391eaa89bbb31deb6",
            "placeholder": "​",
            "style": "IPY_MODEL_241dedeef6b540e89d03f9de08e310c1",
            "value": "Generate report structure: 100%"
          }
        },
        "11b4d87ce3b74ea4b4acb0fcaca56dba": {
          "model_module": "@jupyter-widgets/controls",
          "model_name": "FloatProgressModel",
          "model_module_version": "1.5.0",
          "state": {
            "_dom_classes": [],
            "_model_module": "@jupyter-widgets/controls",
            "_model_module_version": "1.5.0",
            "_model_name": "FloatProgressModel",
            "_view_count": null,
            "_view_module": "@jupyter-widgets/controls",
            "_view_module_version": "1.5.0",
            "_view_name": "ProgressView",
            "bar_style": "success",
            "description": "",
            "description_tooltip": null,
            "layout": "IPY_MODEL_0a9176ad812b47f3b59592ca4337938e",
            "max": 1,
            "min": 0,
            "orientation": "horizontal",
            "style": "IPY_MODEL_23d937029fdf49fdb487b39766dee37b",
            "value": 1
          }
        },
        "01ac0404023d4bd3927a5843a4c9f3bd": {
          "model_module": "@jupyter-widgets/controls",
          "model_name": "HTMLModel",
          "model_module_version": "1.5.0",
          "state": {
            "_dom_classes": [],
            "_model_module": "@jupyter-widgets/controls",
            "_model_module_version": "1.5.0",
            "_model_name": "HTMLModel",
            "_view_count": null,
            "_view_module": "@jupyter-widgets/controls",
            "_view_module_version": "1.5.0",
            "_view_name": "HTMLView",
            "description": "",
            "description_tooltip": null,
            "layout": "IPY_MODEL_c50ea56449324740847046eef2cc8c9f",
            "placeholder": "​",
            "style": "IPY_MODEL_29caf8e10321463dbd36a489b8480b4c",
            "value": " 1/1 [00:07&lt;00:00,  7.22s/it]"
          }
        },
        "5f5f86ab0c384daea57389c8b3f50624": {
          "model_module": "@jupyter-widgets/base",
          "model_name": "LayoutModel",
          "model_module_version": "1.2.0",
          "state": {
            "_model_module": "@jupyter-widgets/base",
            "_model_module_version": "1.2.0",
            "_model_name": "LayoutModel",
            "_view_count": null,
            "_view_module": "@jupyter-widgets/base",
            "_view_module_version": "1.2.0",
            "_view_name": "LayoutView",
            "align_content": null,
            "align_items": null,
            "align_self": null,
            "border": null,
            "bottom": null,
            "display": null,
            "flex": null,
            "flex_flow": null,
            "grid_area": null,
            "grid_auto_columns": null,
            "grid_auto_flow": null,
            "grid_auto_rows": null,
            "grid_column": null,
            "grid_gap": null,
            "grid_row": null,
            "grid_template_areas": null,
            "grid_template_columns": null,
            "grid_template_rows": null,
            "height": null,
            "justify_content": null,
            "justify_items": null,
            "left": null,
            "margin": null,
            "max_height": null,
            "max_width": null,
            "min_height": null,
            "min_width": null,
            "object_fit": null,
            "object_position": null,
            "order": null,
            "overflow": null,
            "overflow_x": null,
            "overflow_y": null,
            "padding": null,
            "right": null,
            "top": null,
            "visibility": null,
            "width": null
          }
        },
        "a90f5582557d43a391eaa89bbb31deb6": {
          "model_module": "@jupyter-widgets/base",
          "model_name": "LayoutModel",
          "model_module_version": "1.2.0",
          "state": {
            "_model_module": "@jupyter-widgets/base",
            "_model_module_version": "1.2.0",
            "_model_name": "LayoutModel",
            "_view_count": null,
            "_view_module": "@jupyter-widgets/base",
            "_view_module_version": "1.2.0",
            "_view_name": "LayoutView",
            "align_content": null,
            "align_items": null,
            "align_self": null,
            "border": null,
            "bottom": null,
            "display": null,
            "flex": null,
            "flex_flow": null,
            "grid_area": null,
            "grid_auto_columns": null,
            "grid_auto_flow": null,
            "grid_auto_rows": null,
            "grid_column": null,
            "grid_gap": null,
            "grid_row": null,
            "grid_template_areas": null,
            "grid_template_columns": null,
            "grid_template_rows": null,
            "height": null,
            "justify_content": null,
            "justify_items": null,
            "left": null,
            "margin": null,
            "max_height": null,
            "max_width": null,
            "min_height": null,
            "min_width": null,
            "object_fit": null,
            "object_position": null,
            "order": null,
            "overflow": null,
            "overflow_x": null,
            "overflow_y": null,
            "padding": null,
            "right": null,
            "top": null,
            "visibility": null,
            "width": null
          }
        },
        "241dedeef6b540e89d03f9de08e310c1": {
          "model_module": "@jupyter-widgets/controls",
          "model_name": "DescriptionStyleModel",
          "model_module_version": "1.5.0",
          "state": {
            "_model_module": "@jupyter-widgets/controls",
            "_model_module_version": "1.5.0",
            "_model_name": "DescriptionStyleModel",
            "_view_count": null,
            "_view_module": "@jupyter-widgets/base",
            "_view_module_version": "1.2.0",
            "_view_name": "StyleView",
            "description_width": ""
          }
        },
        "0a9176ad812b47f3b59592ca4337938e": {
          "model_module": "@jupyter-widgets/base",
          "model_name": "LayoutModel",
          "model_module_version": "1.2.0",
          "state": {
            "_model_module": "@jupyter-widgets/base",
            "_model_module_version": "1.2.0",
            "_model_name": "LayoutModel",
            "_view_count": null,
            "_view_module": "@jupyter-widgets/base",
            "_view_module_version": "1.2.0",
            "_view_name": "LayoutView",
            "align_content": null,
            "align_items": null,
            "align_self": null,
            "border": null,
            "bottom": null,
            "display": null,
            "flex": null,
            "flex_flow": null,
            "grid_area": null,
            "grid_auto_columns": null,
            "grid_auto_flow": null,
            "grid_auto_rows": null,
            "grid_column": null,
            "grid_gap": null,
            "grid_row": null,
            "grid_template_areas": null,
            "grid_template_columns": null,
            "grid_template_rows": null,
            "height": null,
            "justify_content": null,
            "justify_items": null,
            "left": null,
            "margin": null,
            "max_height": null,
            "max_width": null,
            "min_height": null,
            "min_width": null,
            "object_fit": null,
            "object_position": null,
            "order": null,
            "overflow": null,
            "overflow_x": null,
            "overflow_y": null,
            "padding": null,
            "right": null,
            "top": null,
            "visibility": null,
            "width": null
          }
        },
        "23d937029fdf49fdb487b39766dee37b": {
          "model_module": "@jupyter-widgets/controls",
          "model_name": "ProgressStyleModel",
          "model_module_version": "1.5.0",
          "state": {
            "_model_module": "@jupyter-widgets/controls",
            "_model_module_version": "1.5.0",
            "_model_name": "ProgressStyleModel",
            "_view_count": null,
            "_view_module": "@jupyter-widgets/base",
            "_view_module_version": "1.2.0",
            "_view_name": "StyleView",
            "bar_color": null,
            "description_width": ""
          }
        },
        "c50ea56449324740847046eef2cc8c9f": {
          "model_module": "@jupyter-widgets/base",
          "model_name": "LayoutModel",
          "model_module_version": "1.2.0",
          "state": {
            "_model_module": "@jupyter-widgets/base",
            "_model_module_version": "1.2.0",
            "_model_name": "LayoutModel",
            "_view_count": null,
            "_view_module": "@jupyter-widgets/base",
            "_view_module_version": "1.2.0",
            "_view_name": "LayoutView",
            "align_content": null,
            "align_items": null,
            "align_self": null,
            "border": null,
            "bottom": null,
            "display": null,
            "flex": null,
            "flex_flow": null,
            "grid_area": null,
            "grid_auto_columns": null,
            "grid_auto_flow": null,
            "grid_auto_rows": null,
            "grid_column": null,
            "grid_gap": null,
            "grid_row": null,
            "grid_template_areas": null,
            "grid_template_columns": null,
            "grid_template_rows": null,
            "height": null,
            "justify_content": null,
            "justify_items": null,
            "left": null,
            "margin": null,
            "max_height": null,
            "max_width": null,
            "min_height": null,
            "min_width": null,
            "object_fit": null,
            "object_position": null,
            "order": null,
            "overflow": null,
            "overflow_x": null,
            "overflow_y": null,
            "padding": null,
            "right": null,
            "top": null,
            "visibility": null,
            "width": null
          }
        },
        "29caf8e10321463dbd36a489b8480b4c": {
          "model_module": "@jupyter-widgets/controls",
          "model_name": "DescriptionStyleModel",
          "model_module_version": "1.5.0",
          "state": {
            "_model_module": "@jupyter-widgets/controls",
            "_model_module_version": "1.5.0",
            "_model_name": "DescriptionStyleModel",
            "_view_count": null,
            "_view_module": "@jupyter-widgets/base",
            "_view_module_version": "1.2.0",
            "_view_name": "StyleView",
            "description_width": ""
          }
        },
        "04168c473e7a409abf2597c4994703ee": {
          "model_module": "@jupyter-widgets/controls",
          "model_name": "HBoxModel",
          "model_module_version": "1.5.0",
          "state": {
            "_dom_classes": [],
            "_model_module": "@jupyter-widgets/controls",
            "_model_module_version": "1.5.0",
            "_model_name": "HBoxModel",
            "_view_count": null,
            "_view_module": "@jupyter-widgets/controls",
            "_view_module_version": "1.5.0",
            "_view_name": "HBoxView",
            "box_style": "",
            "children": [
              "IPY_MODEL_892435eb748147c5b83ea8b1b55cca2a",
              "IPY_MODEL_5867a267129845c0a316306791333e54",
              "IPY_MODEL_6a21a1668f7a429c92b6b4d723a3ea1a"
            ],
            "layout": "IPY_MODEL_68f5349a234943098f025a89fe755608"
          }
        },
        "892435eb748147c5b83ea8b1b55cca2a": {
          "model_module": "@jupyter-widgets/controls",
          "model_name": "HTMLModel",
          "model_module_version": "1.5.0",
          "state": {
            "_dom_classes": [],
            "_model_module": "@jupyter-widgets/controls",
            "_model_module_version": "1.5.0",
            "_model_name": "HTMLModel",
            "_view_count": null,
            "_view_module": "@jupyter-widgets/controls",
            "_view_module_version": "1.5.0",
            "_view_name": "HTMLView",
            "description": "",
            "description_tooltip": null,
            "layout": "IPY_MODEL_20e7c723c1a94818ba257b298f531c76",
            "placeholder": "​",
            "style": "IPY_MODEL_399d187f16aa454d8ca72e333b72cdbb",
            "value": "Render HTML: 100%"
          }
        },
        "5867a267129845c0a316306791333e54": {
          "model_module": "@jupyter-widgets/controls",
          "model_name": "FloatProgressModel",
          "model_module_version": "1.5.0",
          "state": {
            "_dom_classes": [],
            "_model_module": "@jupyter-widgets/controls",
            "_model_module_version": "1.5.0",
            "_model_name": "FloatProgressModel",
            "_view_count": null,
            "_view_module": "@jupyter-widgets/controls",
            "_view_module_version": "1.5.0",
            "_view_name": "ProgressView",
            "bar_style": "success",
            "description": "",
            "description_tooltip": null,
            "layout": "IPY_MODEL_f449e287cf304c768f42ba43ba845aac",
            "max": 1,
            "min": 0,
            "orientation": "horizontal",
            "style": "IPY_MODEL_2abc655dd0d74a869d75edcbae2a40a6",
            "value": 1
          }
        },
        "6a21a1668f7a429c92b6b4d723a3ea1a": {
          "model_module": "@jupyter-widgets/controls",
          "model_name": "HTMLModel",
          "model_module_version": "1.5.0",
          "state": {
            "_dom_classes": [],
            "_model_module": "@jupyter-widgets/controls",
            "_model_module_version": "1.5.0",
            "_model_name": "HTMLModel",
            "_view_count": null,
            "_view_module": "@jupyter-widgets/controls",
            "_view_module_version": "1.5.0",
            "_view_name": "HTMLView",
            "description": "",
            "description_tooltip": null,
            "layout": "IPY_MODEL_4d900062dff1484a933d42b4dbae9c31",
            "placeholder": "​",
            "style": "IPY_MODEL_2e9774fb757144c1bc5f5a3049e69f57",
            "value": " 1/1 [00:02&lt;00:00,  2.84s/it]"
          }
        },
        "68f5349a234943098f025a89fe755608": {
          "model_module": "@jupyter-widgets/base",
          "model_name": "LayoutModel",
          "model_module_version": "1.2.0",
          "state": {
            "_model_module": "@jupyter-widgets/base",
            "_model_module_version": "1.2.0",
            "_model_name": "LayoutModel",
            "_view_count": null,
            "_view_module": "@jupyter-widgets/base",
            "_view_module_version": "1.2.0",
            "_view_name": "LayoutView",
            "align_content": null,
            "align_items": null,
            "align_self": null,
            "border": null,
            "bottom": null,
            "display": null,
            "flex": null,
            "flex_flow": null,
            "grid_area": null,
            "grid_auto_columns": null,
            "grid_auto_flow": null,
            "grid_auto_rows": null,
            "grid_column": null,
            "grid_gap": null,
            "grid_row": null,
            "grid_template_areas": null,
            "grid_template_columns": null,
            "grid_template_rows": null,
            "height": null,
            "justify_content": null,
            "justify_items": null,
            "left": null,
            "margin": null,
            "max_height": null,
            "max_width": null,
            "min_height": null,
            "min_width": null,
            "object_fit": null,
            "object_position": null,
            "order": null,
            "overflow": null,
            "overflow_x": null,
            "overflow_y": null,
            "padding": null,
            "right": null,
            "top": null,
            "visibility": null,
            "width": null
          }
        },
        "20e7c723c1a94818ba257b298f531c76": {
          "model_module": "@jupyter-widgets/base",
          "model_name": "LayoutModel",
          "model_module_version": "1.2.0",
          "state": {
            "_model_module": "@jupyter-widgets/base",
            "_model_module_version": "1.2.0",
            "_model_name": "LayoutModel",
            "_view_count": null,
            "_view_module": "@jupyter-widgets/base",
            "_view_module_version": "1.2.0",
            "_view_name": "LayoutView",
            "align_content": null,
            "align_items": null,
            "align_self": null,
            "border": null,
            "bottom": null,
            "display": null,
            "flex": null,
            "flex_flow": null,
            "grid_area": null,
            "grid_auto_columns": null,
            "grid_auto_flow": null,
            "grid_auto_rows": null,
            "grid_column": null,
            "grid_gap": null,
            "grid_row": null,
            "grid_template_areas": null,
            "grid_template_columns": null,
            "grid_template_rows": null,
            "height": null,
            "justify_content": null,
            "justify_items": null,
            "left": null,
            "margin": null,
            "max_height": null,
            "max_width": null,
            "min_height": null,
            "min_width": null,
            "object_fit": null,
            "object_position": null,
            "order": null,
            "overflow": null,
            "overflow_x": null,
            "overflow_y": null,
            "padding": null,
            "right": null,
            "top": null,
            "visibility": null,
            "width": null
          }
        },
        "399d187f16aa454d8ca72e333b72cdbb": {
          "model_module": "@jupyter-widgets/controls",
          "model_name": "DescriptionStyleModel",
          "model_module_version": "1.5.0",
          "state": {
            "_model_module": "@jupyter-widgets/controls",
            "_model_module_version": "1.5.0",
            "_model_name": "DescriptionStyleModel",
            "_view_count": null,
            "_view_module": "@jupyter-widgets/base",
            "_view_module_version": "1.2.0",
            "_view_name": "StyleView",
            "description_width": ""
          }
        },
        "f449e287cf304c768f42ba43ba845aac": {
          "model_module": "@jupyter-widgets/base",
          "model_name": "LayoutModel",
          "model_module_version": "1.2.0",
          "state": {
            "_model_module": "@jupyter-widgets/base",
            "_model_module_version": "1.2.0",
            "_model_name": "LayoutModel",
            "_view_count": null,
            "_view_module": "@jupyter-widgets/base",
            "_view_module_version": "1.2.0",
            "_view_name": "LayoutView",
            "align_content": null,
            "align_items": null,
            "align_self": null,
            "border": null,
            "bottom": null,
            "display": null,
            "flex": null,
            "flex_flow": null,
            "grid_area": null,
            "grid_auto_columns": null,
            "grid_auto_flow": null,
            "grid_auto_rows": null,
            "grid_column": null,
            "grid_gap": null,
            "grid_row": null,
            "grid_template_areas": null,
            "grid_template_columns": null,
            "grid_template_rows": null,
            "height": null,
            "justify_content": null,
            "justify_items": null,
            "left": null,
            "margin": null,
            "max_height": null,
            "max_width": null,
            "min_height": null,
            "min_width": null,
            "object_fit": null,
            "object_position": null,
            "order": null,
            "overflow": null,
            "overflow_x": null,
            "overflow_y": null,
            "padding": null,
            "right": null,
            "top": null,
            "visibility": null,
            "width": null
          }
        },
        "2abc655dd0d74a869d75edcbae2a40a6": {
          "model_module": "@jupyter-widgets/controls",
          "model_name": "ProgressStyleModel",
          "model_module_version": "1.5.0",
          "state": {
            "_model_module": "@jupyter-widgets/controls",
            "_model_module_version": "1.5.0",
            "_model_name": "ProgressStyleModel",
            "_view_count": null,
            "_view_module": "@jupyter-widgets/base",
            "_view_module_version": "1.2.0",
            "_view_name": "StyleView",
            "bar_color": null,
            "description_width": ""
          }
        },
        "4d900062dff1484a933d42b4dbae9c31": {
          "model_module": "@jupyter-widgets/base",
          "model_name": "LayoutModel",
          "model_module_version": "1.2.0",
          "state": {
            "_model_module": "@jupyter-widgets/base",
            "_model_module_version": "1.2.0",
            "_model_name": "LayoutModel",
            "_view_count": null,
            "_view_module": "@jupyter-widgets/base",
            "_view_module_version": "1.2.0",
            "_view_name": "LayoutView",
            "align_content": null,
            "align_items": null,
            "align_self": null,
            "border": null,
            "bottom": null,
            "display": null,
            "flex": null,
            "flex_flow": null,
            "grid_area": null,
            "grid_auto_columns": null,
            "grid_auto_flow": null,
            "grid_auto_rows": null,
            "grid_column": null,
            "grid_gap": null,
            "grid_row": null,
            "grid_template_areas": null,
            "grid_template_columns": null,
            "grid_template_rows": null,
            "height": null,
            "justify_content": null,
            "justify_items": null,
            "left": null,
            "margin": null,
            "max_height": null,
            "max_width": null,
            "min_height": null,
            "min_width": null,
            "object_fit": null,
            "object_position": null,
            "order": null,
            "overflow": null,
            "overflow_x": null,
            "overflow_y": null,
            "padding": null,
            "right": null,
            "top": null,
            "visibility": null,
            "width": null
          }
        },
        "2e9774fb757144c1bc5f5a3049e69f57": {
          "model_module": "@jupyter-widgets/controls",
          "model_name": "DescriptionStyleModel",
          "model_module_version": "1.5.0",
          "state": {
            "_model_module": "@jupyter-widgets/controls",
            "_model_module_version": "1.5.0",
            "_model_name": "DescriptionStyleModel",
            "_view_count": null,
            "_view_module": "@jupyter-widgets/base",
            "_view_module_version": "1.2.0",
            "_view_name": "StyleView",
            "description_width": ""
          }
        },
        "e90a37e8268242a0a95eeda8ab33ffe0": {
          "model_module": "@jupyter-widgets/controls",
          "model_name": "HBoxModel",
          "model_module_version": "1.5.0",
          "state": {
            "_dom_classes": [],
            "_model_module": "@jupyter-widgets/controls",
            "_model_module_version": "1.5.0",
            "_model_name": "HBoxModel",
            "_view_count": null,
            "_view_module": "@jupyter-widgets/controls",
            "_view_module_version": "1.5.0",
            "_view_name": "HBoxView",
            "box_style": "",
            "children": [
              "IPY_MODEL_de352979a44a4f8a97e91ae345f816ee",
              "IPY_MODEL_b3c35e16764f4fe29dbe3e2c4d04c037",
              "IPY_MODEL_8b21fbdf0fb04e01b2bd332d00ed85bd"
            ],
            "layout": "IPY_MODEL_4b9bc4cbe3e6410d8477dfe54503c804"
          }
        },
        "de352979a44a4f8a97e91ae345f816ee": {
          "model_module": "@jupyter-widgets/controls",
          "model_name": "HTMLModel",
          "model_module_version": "1.5.0",
          "state": {
            "_dom_classes": [],
            "_model_module": "@jupyter-widgets/controls",
            "_model_module_version": "1.5.0",
            "_model_name": "HTMLModel",
            "_view_count": null,
            "_view_module": "@jupyter-widgets/controls",
            "_view_module_version": "1.5.0",
            "_view_name": "HTMLView",
            "description": "",
            "description_tooltip": null,
            "layout": "IPY_MODEL_beb5bff510f946c7b3e43a3e21e8b711",
            "placeholder": "​",
            "style": "IPY_MODEL_b6acd118affd4d89bb95d46736a5228a",
            "value": "Export report to file: 100%"
          }
        },
        "b3c35e16764f4fe29dbe3e2c4d04c037": {
          "model_module": "@jupyter-widgets/controls",
          "model_name": "FloatProgressModel",
          "model_module_version": "1.5.0",
          "state": {
            "_dom_classes": [],
            "_model_module": "@jupyter-widgets/controls",
            "_model_module_version": "1.5.0",
            "_model_name": "FloatProgressModel",
            "_view_count": null,
            "_view_module": "@jupyter-widgets/controls",
            "_view_module_version": "1.5.0",
            "_view_name": "ProgressView",
            "bar_style": "success",
            "description": "",
            "description_tooltip": null,
            "layout": "IPY_MODEL_0b1e3e74dc35486dbd6a4f829288edad",
            "max": 1,
            "min": 0,
            "orientation": "horizontal",
            "style": "IPY_MODEL_e7189b84a5d84eccae7f2cb149970f8e",
            "value": 1
          }
        },
        "8b21fbdf0fb04e01b2bd332d00ed85bd": {
          "model_module": "@jupyter-widgets/controls",
          "model_name": "HTMLModel",
          "model_module_version": "1.5.0",
          "state": {
            "_dom_classes": [],
            "_model_module": "@jupyter-widgets/controls",
            "_model_module_version": "1.5.0",
            "_model_name": "HTMLModel",
            "_view_count": null,
            "_view_module": "@jupyter-widgets/controls",
            "_view_module_version": "1.5.0",
            "_view_name": "HTMLView",
            "description": "",
            "description_tooltip": null,
            "layout": "IPY_MODEL_376acd33c9924686ae5410bfcb1a698f",
            "placeholder": "​",
            "style": "IPY_MODEL_636d17c83c4f44df90e2973e66a3cb11",
            "value": " 1/1 [00:00&lt;00:00, 27.83it/s]"
          }
        },
        "4b9bc4cbe3e6410d8477dfe54503c804": {
          "model_module": "@jupyter-widgets/base",
          "model_name": "LayoutModel",
          "model_module_version": "1.2.0",
          "state": {
            "_model_module": "@jupyter-widgets/base",
            "_model_module_version": "1.2.0",
            "_model_name": "LayoutModel",
            "_view_count": null,
            "_view_module": "@jupyter-widgets/base",
            "_view_module_version": "1.2.0",
            "_view_name": "LayoutView",
            "align_content": null,
            "align_items": null,
            "align_self": null,
            "border": null,
            "bottom": null,
            "display": null,
            "flex": null,
            "flex_flow": null,
            "grid_area": null,
            "grid_auto_columns": null,
            "grid_auto_flow": null,
            "grid_auto_rows": null,
            "grid_column": null,
            "grid_gap": null,
            "grid_row": null,
            "grid_template_areas": null,
            "grid_template_columns": null,
            "grid_template_rows": null,
            "height": null,
            "justify_content": null,
            "justify_items": null,
            "left": null,
            "margin": null,
            "max_height": null,
            "max_width": null,
            "min_height": null,
            "min_width": null,
            "object_fit": null,
            "object_position": null,
            "order": null,
            "overflow": null,
            "overflow_x": null,
            "overflow_y": null,
            "padding": null,
            "right": null,
            "top": null,
            "visibility": null,
            "width": null
          }
        },
        "beb5bff510f946c7b3e43a3e21e8b711": {
          "model_module": "@jupyter-widgets/base",
          "model_name": "LayoutModel",
          "model_module_version": "1.2.0",
          "state": {
            "_model_module": "@jupyter-widgets/base",
            "_model_module_version": "1.2.0",
            "_model_name": "LayoutModel",
            "_view_count": null,
            "_view_module": "@jupyter-widgets/base",
            "_view_module_version": "1.2.0",
            "_view_name": "LayoutView",
            "align_content": null,
            "align_items": null,
            "align_self": null,
            "border": null,
            "bottom": null,
            "display": null,
            "flex": null,
            "flex_flow": null,
            "grid_area": null,
            "grid_auto_columns": null,
            "grid_auto_flow": null,
            "grid_auto_rows": null,
            "grid_column": null,
            "grid_gap": null,
            "grid_row": null,
            "grid_template_areas": null,
            "grid_template_columns": null,
            "grid_template_rows": null,
            "height": null,
            "justify_content": null,
            "justify_items": null,
            "left": null,
            "margin": null,
            "max_height": null,
            "max_width": null,
            "min_height": null,
            "min_width": null,
            "object_fit": null,
            "object_position": null,
            "order": null,
            "overflow": null,
            "overflow_x": null,
            "overflow_y": null,
            "padding": null,
            "right": null,
            "top": null,
            "visibility": null,
            "width": null
          }
        },
        "b6acd118affd4d89bb95d46736a5228a": {
          "model_module": "@jupyter-widgets/controls",
          "model_name": "DescriptionStyleModel",
          "model_module_version": "1.5.0",
          "state": {
            "_model_module": "@jupyter-widgets/controls",
            "_model_module_version": "1.5.0",
            "_model_name": "DescriptionStyleModel",
            "_view_count": null,
            "_view_module": "@jupyter-widgets/base",
            "_view_module_version": "1.2.0",
            "_view_name": "StyleView",
            "description_width": ""
          }
        },
        "0b1e3e74dc35486dbd6a4f829288edad": {
          "model_module": "@jupyter-widgets/base",
          "model_name": "LayoutModel",
          "model_module_version": "1.2.0",
          "state": {
            "_model_module": "@jupyter-widgets/base",
            "_model_module_version": "1.2.0",
            "_model_name": "LayoutModel",
            "_view_count": null,
            "_view_module": "@jupyter-widgets/base",
            "_view_module_version": "1.2.0",
            "_view_name": "LayoutView",
            "align_content": null,
            "align_items": null,
            "align_self": null,
            "border": null,
            "bottom": null,
            "display": null,
            "flex": null,
            "flex_flow": null,
            "grid_area": null,
            "grid_auto_columns": null,
            "grid_auto_flow": null,
            "grid_auto_rows": null,
            "grid_column": null,
            "grid_gap": null,
            "grid_row": null,
            "grid_template_areas": null,
            "grid_template_columns": null,
            "grid_template_rows": null,
            "height": null,
            "justify_content": null,
            "justify_items": null,
            "left": null,
            "margin": null,
            "max_height": null,
            "max_width": null,
            "min_height": null,
            "min_width": null,
            "object_fit": null,
            "object_position": null,
            "order": null,
            "overflow": null,
            "overflow_x": null,
            "overflow_y": null,
            "padding": null,
            "right": null,
            "top": null,
            "visibility": null,
            "width": null
          }
        },
        "e7189b84a5d84eccae7f2cb149970f8e": {
          "model_module": "@jupyter-widgets/controls",
          "model_name": "ProgressStyleModel",
          "model_module_version": "1.5.0",
          "state": {
            "_model_module": "@jupyter-widgets/controls",
            "_model_module_version": "1.5.0",
            "_model_name": "ProgressStyleModel",
            "_view_count": null,
            "_view_module": "@jupyter-widgets/base",
            "_view_module_version": "1.2.0",
            "_view_name": "StyleView",
            "bar_color": null,
            "description_width": ""
          }
        },
        "376acd33c9924686ae5410bfcb1a698f": {
          "model_module": "@jupyter-widgets/base",
          "model_name": "LayoutModel",
          "model_module_version": "1.2.0",
          "state": {
            "_model_module": "@jupyter-widgets/base",
            "_model_module_version": "1.2.0",
            "_model_name": "LayoutModel",
            "_view_count": null,
            "_view_module": "@jupyter-widgets/base",
            "_view_module_version": "1.2.0",
            "_view_name": "LayoutView",
            "align_content": null,
            "align_items": null,
            "align_self": null,
            "border": null,
            "bottom": null,
            "display": null,
            "flex": null,
            "flex_flow": null,
            "grid_area": null,
            "grid_auto_columns": null,
            "grid_auto_flow": null,
            "grid_auto_rows": null,
            "grid_column": null,
            "grid_gap": null,
            "grid_row": null,
            "grid_template_areas": null,
            "grid_template_columns": null,
            "grid_template_rows": null,
            "height": null,
            "justify_content": null,
            "justify_items": null,
            "left": null,
            "margin": null,
            "max_height": null,
            "max_width": null,
            "min_height": null,
            "min_width": null,
            "object_fit": null,
            "object_position": null,
            "order": null,
            "overflow": null,
            "overflow_x": null,
            "overflow_y": null,
            "padding": null,
            "right": null,
            "top": null,
            "visibility": null,
            "width": null
          }
        },
        "636d17c83c4f44df90e2973e66a3cb11": {
          "model_module": "@jupyter-widgets/controls",
          "model_name": "DescriptionStyleModel",
          "model_module_version": "1.5.0",
          "state": {
            "_model_module": "@jupyter-widgets/controls",
            "_model_module_version": "1.5.0",
            "_model_name": "DescriptionStyleModel",
            "_view_count": null,
            "_view_module": "@jupyter-widgets/base",
            "_view_module_version": "1.2.0",
            "_view_name": "StyleView",
            "description_width": ""
          }
        }
      }
    }
  },
  "cells": [
    {
      "cell_type": "markdown",
      "metadata": {
        "id": "view-in-github",
        "colab_type": "text"
      },
      "source": [
        "<a href=\"https://colab.research.google.com/github/Lfahima/datasci_3_eda/blob/main/HHA507Assignment3.ipynb\" target=\"_parent\"><img src=\"https://colab.research.google.com/assets/colab-badge.svg\" alt=\"Open In Colab\"/></a>"
      ]
    },
    {
      "cell_type": "markdown",
      "source": [
        "### Loading in Packages"
      ],
      "metadata": {
        "id": "r3DEVj5CFdS5"
      }
    },
    {
      "cell_type": "code",
      "source": [
        "import pandas as pd\n"
      ],
      "metadata": {
        "id": "JYa4XWr458GF"
      },
      "execution_count": 2,
      "outputs": []
    },
    {
      "cell_type": "code",
      "source": [
        "import numpy as np"
      ],
      "metadata": {
        "id": "mGEO31vSyh_a"
      },
      "execution_count": 37,
      "outputs": []
    },
    {
      "cell_type": "code",
      "source": [
        "import matplotlib.pyplot as plt"
      ],
      "metadata": {
        "id": "lzt4vp4c538w"
      },
      "execution_count": 66,
      "outputs": []
    },
    {
      "cell_type": "code",
      "source": [
        "!pip install pandas_profiling\n",
        "from pandas_profiling import ProfileReport"
      ],
      "metadata": {
        "colab": {
          "base_uri": "https://localhost:8080/"
        },
        "id": "eel2mxtJIjVK",
        "outputId": "cb61abe7-b006-49cd-e12c-365d3bd375cc"
      },
      "execution_count": 97,
      "outputs": [
        {
          "output_type": "stream",
          "name": "stdout",
          "text": [
            "Collecting pandas_profiling\n",
            "  Downloading pandas_profiling-3.6.6-py2.py3-none-any.whl (324 kB)\n",
            "\u001b[2K     \u001b[90m━━━━━━━━━━━━━━━━━━━━━━━━━━━━━━━━━━━━━━━\u001b[0m \u001b[32m324.4/324.4 kB\u001b[0m \u001b[31m4.7 MB/s\u001b[0m eta \u001b[36m0:00:00\u001b[0m\n",
            "\u001b[?25hCollecting ydata-profiling (from pandas_profiling)\n",
            "  Downloading ydata_profiling-4.5.1-py2.py3-none-any.whl (357 kB)\n",
            "\u001b[2K     \u001b[90m━━━━━━━━━━━━━━━━━━━━━━━━━━━━━━━━━━━━━━━\u001b[0m \u001b[32m357.3/357.3 kB\u001b[0m \u001b[31m8.7 MB/s\u001b[0m eta \u001b[36m0:00:00\u001b[0m\n",
            "\u001b[?25hRequirement already satisfied: scipy<1.12,>=1.4.1 in /usr/local/lib/python3.10/dist-packages (from ydata-profiling->pandas_profiling) (1.11.2)\n",
            "Requirement already satisfied: pandas!=1.4.0,<2.1,>1.1 in /usr/local/lib/python3.10/dist-packages (from ydata-profiling->pandas_profiling) (1.5.3)\n",
            "Requirement already satisfied: matplotlib<4,>=3.2 in /usr/local/lib/python3.10/dist-packages (from ydata-profiling->pandas_profiling) (3.7.1)\n",
            "Requirement already satisfied: pydantic<2,>=1.8.1 in /usr/local/lib/python3.10/dist-packages (from ydata-profiling->pandas_profiling) (1.10.12)\n",
            "Requirement already satisfied: PyYAML<6.1,>=5.0.0 in /usr/local/lib/python3.10/dist-packages (from ydata-profiling->pandas_profiling) (6.0.1)\n",
            "Requirement already satisfied: jinja2<3.2,>=2.11.1 in /usr/local/lib/python3.10/dist-packages (from ydata-profiling->pandas_profiling) (3.1.2)\n",
            "Collecting visions[type_image_path]==0.7.5 (from ydata-profiling->pandas_profiling)\n",
            "  Downloading visions-0.7.5-py3-none-any.whl (102 kB)\n",
            "\u001b[2K     \u001b[90m━━━━━━━━━━━━━━━━━━━━━━━━━━━━━━━━━━━━━━━\u001b[0m \u001b[32m102.7/102.7 kB\u001b[0m \u001b[31m8.9 MB/s\u001b[0m eta \u001b[36m0:00:00\u001b[0m\n",
            "\u001b[?25hRequirement already satisfied: numpy<1.24,>=1.16.0 in /usr/local/lib/python3.10/dist-packages (from ydata-profiling->pandas_profiling) (1.23.5)\n",
            "Collecting htmlmin==0.1.12 (from ydata-profiling->pandas_profiling)\n",
            "  Downloading htmlmin-0.1.12.tar.gz (19 kB)\n",
            "  Preparing metadata (setup.py) ... \u001b[?25l\u001b[?25hdone\n",
            "Collecting phik<0.13,>=0.11.1 (from ydata-profiling->pandas_profiling)\n",
            "  Downloading phik-0.12.3-cp310-cp310-manylinux_2_17_x86_64.manylinux2014_x86_64.whl (679 kB)\n",
            "\u001b[2K     \u001b[90m━━━━━━━━━━━━━━━━━━━━━━━━━━━━━━━━━━━━━━━\u001b[0m \u001b[32m679.5/679.5 kB\u001b[0m \u001b[31m9.8 MB/s\u001b[0m eta \u001b[36m0:00:00\u001b[0m\n",
            "\u001b[?25hRequirement already satisfied: requests<3,>=2.24.0 in /usr/local/lib/python3.10/dist-packages (from ydata-profiling->pandas_profiling) (2.31.0)\n",
            "Requirement already satisfied: tqdm<5,>=4.48.2 in /usr/local/lib/python3.10/dist-packages (from ydata-profiling->pandas_profiling) (4.66.1)\n",
            "Requirement already satisfied: seaborn<0.13,>=0.10.1 in /usr/local/lib/python3.10/dist-packages (from ydata-profiling->pandas_profiling) (0.12.2)\n",
            "Collecting multimethod<2,>=1.4 (from ydata-profiling->pandas_profiling)\n",
            "  Downloading multimethod-1.9.1-py3-none-any.whl (10 kB)\n",
            "Requirement already satisfied: statsmodels<1,>=0.13.2 in /usr/local/lib/python3.10/dist-packages (from ydata-profiling->pandas_profiling) (0.14.0)\n",
            "Collecting typeguard<3,>=2.13.2 (from ydata-profiling->pandas_profiling)\n",
            "  Downloading typeguard-2.13.3-py3-none-any.whl (17 kB)\n",
            "Collecting imagehash==4.3.1 (from ydata-profiling->pandas_profiling)\n",
            "  Downloading ImageHash-4.3.1-py2.py3-none-any.whl (296 kB)\n",
            "\u001b[2K     \u001b[90m━━━━━━━━━━━━━━━━━━━━━━━━━━━━━━━━━━━━━━\u001b[0m \u001b[32m296.5/296.5 kB\u001b[0m \u001b[31m10.4 MB/s\u001b[0m eta \u001b[36m0:00:00\u001b[0m\n",
            "\u001b[?25hRequirement already satisfied: wordcloud>=1.9.1 in /usr/local/lib/python3.10/dist-packages (from ydata-profiling->pandas_profiling) (1.9.2)\n",
            "Collecting dacite>=1.8 (from ydata-profiling->pandas_profiling)\n",
            "  Downloading dacite-1.8.1-py3-none-any.whl (14 kB)\n",
            "Requirement already satisfied: PyWavelets in /usr/local/lib/python3.10/dist-packages (from imagehash==4.3.1->ydata-profiling->pandas_profiling) (1.4.1)\n",
            "Requirement already satisfied: pillow in /usr/local/lib/python3.10/dist-packages (from imagehash==4.3.1->ydata-profiling->pandas_profiling) (9.4.0)\n",
            "Requirement already satisfied: attrs>=19.3.0 in /usr/local/lib/python3.10/dist-packages (from visions[type_image_path]==0.7.5->ydata-profiling->pandas_profiling) (23.1.0)\n",
            "Requirement already satisfied: networkx>=2.4 in /usr/local/lib/python3.10/dist-packages (from visions[type_image_path]==0.7.5->ydata-profiling->pandas_profiling) (3.1)\n",
            "Collecting tangled-up-in-unicode>=0.0.4 (from visions[type_image_path]==0.7.5->ydata-profiling->pandas_profiling)\n",
            "  Downloading tangled_up_in_unicode-0.2.0-py3-none-any.whl (4.7 MB)\n",
            "\u001b[2K     \u001b[90m━━━━━━━━━━━━━━━━━━━━━━━━━━━━━━━━━━━━━━━━\u001b[0m \u001b[32m4.7/4.7 MB\u001b[0m \u001b[31m19.3 MB/s\u001b[0m eta \u001b[36m0:00:00\u001b[0m\n",
            "\u001b[?25hRequirement already satisfied: MarkupSafe>=2.0 in /usr/local/lib/python3.10/dist-packages (from jinja2<3.2,>=2.11.1->ydata-profiling->pandas_profiling) (2.1.3)\n",
            "Requirement already satisfied: contourpy>=1.0.1 in /usr/local/lib/python3.10/dist-packages (from matplotlib<4,>=3.2->ydata-profiling->pandas_profiling) (1.1.0)\n",
            "Requirement already satisfied: cycler>=0.10 in /usr/local/lib/python3.10/dist-packages (from matplotlib<4,>=3.2->ydata-profiling->pandas_profiling) (0.11.0)\n",
            "Requirement already satisfied: fonttools>=4.22.0 in /usr/local/lib/python3.10/dist-packages (from matplotlib<4,>=3.2->ydata-profiling->pandas_profiling) (4.42.1)\n",
            "Requirement already satisfied: kiwisolver>=1.0.1 in /usr/local/lib/python3.10/dist-packages (from matplotlib<4,>=3.2->ydata-profiling->pandas_profiling) (1.4.5)\n",
            "Requirement already satisfied: packaging>=20.0 in /usr/local/lib/python3.10/dist-packages (from matplotlib<4,>=3.2->ydata-profiling->pandas_profiling) (23.1)\n",
            "Requirement already satisfied: pyparsing>=2.3.1 in /usr/local/lib/python3.10/dist-packages (from matplotlib<4,>=3.2->ydata-profiling->pandas_profiling) (3.1.1)\n",
            "Requirement already satisfied: python-dateutil>=2.7 in /usr/local/lib/python3.10/dist-packages (from matplotlib<4,>=3.2->ydata-profiling->pandas_profiling) (2.8.2)\n",
            "Requirement already satisfied: pytz>=2020.1 in /usr/local/lib/python3.10/dist-packages (from pandas!=1.4.0,<2.1,>1.1->ydata-profiling->pandas_profiling) (2023.3.post1)\n",
            "Requirement already satisfied: joblib>=0.14.1 in /usr/local/lib/python3.10/dist-packages (from phik<0.13,>=0.11.1->ydata-profiling->pandas_profiling) (1.3.2)\n",
            "Requirement already satisfied: typing-extensions>=4.2.0 in /usr/local/lib/python3.10/dist-packages (from pydantic<2,>=1.8.1->ydata-profiling->pandas_profiling) (4.5.0)\n",
            "Requirement already satisfied: charset-normalizer<4,>=2 in /usr/local/lib/python3.10/dist-packages (from requests<3,>=2.24.0->ydata-profiling->pandas_profiling) (3.2.0)\n",
            "Requirement already satisfied: idna<4,>=2.5 in /usr/local/lib/python3.10/dist-packages (from requests<3,>=2.24.0->ydata-profiling->pandas_profiling) (3.4)\n",
            "Requirement already satisfied: urllib3<3,>=1.21.1 in /usr/local/lib/python3.10/dist-packages (from requests<3,>=2.24.0->ydata-profiling->pandas_profiling) (2.0.4)\n",
            "Requirement already satisfied: certifi>=2017.4.17 in /usr/local/lib/python3.10/dist-packages (from requests<3,>=2.24.0->ydata-profiling->pandas_profiling) (2023.7.22)\n",
            "Requirement already satisfied: patsy>=0.5.2 in /usr/local/lib/python3.10/dist-packages (from statsmodels<1,>=0.13.2->ydata-profiling->pandas_profiling) (0.5.3)\n",
            "Requirement already satisfied: six in /usr/local/lib/python3.10/dist-packages (from patsy>=0.5.2->statsmodels<1,>=0.13.2->ydata-profiling->pandas_profiling) (1.16.0)\n",
            "Building wheels for collected packages: htmlmin\n",
            "  Building wheel for htmlmin (setup.py) ... \u001b[?25l\u001b[?25hdone\n",
            "  Created wheel for htmlmin: filename=htmlmin-0.1.12-py3-none-any.whl size=27081 sha256=8bb5c11ee5f3aaa2152d10c5571f268ca6d4906c6c3a027b89ea934ee0baf05e\n",
            "  Stored in directory: /root/.cache/pip/wheels/dd/91/29/a79cecb328d01739e64017b6fb9a1ab9d8cb1853098ec5966d\n",
            "Successfully built htmlmin\n",
            "Installing collected packages: htmlmin, typeguard, tangled-up-in-unicode, multimethod, dacite, imagehash, visions, phik, ydata-profiling, pandas_profiling\n",
            "Successfully installed dacite-1.8.1 htmlmin-0.1.12 imagehash-4.3.1 multimethod-1.9.1 pandas_profiling-3.6.6 phik-0.12.3 tangled-up-in-unicode-0.2.0 typeguard-2.13.3 visions-0.7.5 ydata-profiling-4.5.1\n"
          ]
        },
        {
          "output_type": "stream",
          "name": "stderr",
          "text": [
            "<ipython-input-97-365781356aef>:2: DeprecationWarning: `import pandas_profiling` is going to be deprecated by April 1st. Please use `import ydata_profiling` instead.\n",
            "  from pandas_profiling import ProfileReport\n"
          ]
        }
      ]
    },
    {
      "cell_type": "markdown",
      "source": [
        "## Loading in dataset\n"
      ],
      "metadata": {
        "id": "zMs3kqueFXRQ"
      }
    },
    {
      "cell_type": "code",
      "source": [
        "HC_DM_df = pd.read_csv('Healthcare-Diabetes.csv')\n",
        "HC_DM_df.head(10)"
      ],
      "metadata": {
        "colab": {
          "base_uri": "https://localhost:8080/",
          "height": 363
        },
        "id": "GDwzP-E-mwnE",
        "outputId": "073589a4-3fb7-4bcd-d1ec-2873ba1e57e3"
      },
      "execution_count": 3,
      "outputs": [
        {
          "output_type": "execute_result",
          "data": {
            "text/plain": [
              "   Id  Pregnancies  Glucose  BloodPressure  SkinThickness  Insulin   BMI  \\\n",
              "0   1            6      148             72             35        0  33.6   \n",
              "1   2            1       85             66             29        0  26.6   \n",
              "2   3            8      183             64              0        0  23.3   \n",
              "3   4            1       89             66             23       94  28.1   \n",
              "4   5            0      137             40             35      168  43.1   \n",
              "5   6            5      116             74              0        0  25.6   \n",
              "6   7            3       78             50             32       88  31.0   \n",
              "7   8           10      115              0              0        0  35.3   \n",
              "8   9            2      197             70             45      543  30.5   \n",
              "9  10            8      125             96              0        0   0.0   \n",
              "\n",
              "   DiabetesPedigreeFunction  Age  Outcome  \n",
              "0                     0.627   50        1  \n",
              "1                     0.351   31        0  \n",
              "2                     0.672   32        1  \n",
              "3                     0.167   21        0  \n",
              "4                     2.288   33        1  \n",
              "5                     0.201   30        0  \n",
              "6                     0.248   26        1  \n",
              "7                     0.134   29        0  \n",
              "8                     0.158   53        1  \n",
              "9                     0.232   54        1  "
            ],
            "text/html": [
              "\n",
              "  <div id=\"df-f17e9e38-56df-4590-be57-684d3fdc9f2c\" class=\"colab-df-container\">\n",
              "    <div>\n",
              "<style scoped>\n",
              "    .dataframe tbody tr th:only-of-type {\n",
              "        vertical-align: middle;\n",
              "    }\n",
              "\n",
              "    .dataframe tbody tr th {\n",
              "        vertical-align: top;\n",
              "    }\n",
              "\n",
              "    .dataframe thead th {\n",
              "        text-align: right;\n",
              "    }\n",
              "</style>\n",
              "<table border=\"1\" class=\"dataframe\">\n",
              "  <thead>\n",
              "    <tr style=\"text-align: right;\">\n",
              "      <th></th>\n",
              "      <th>Id</th>\n",
              "      <th>Pregnancies</th>\n",
              "      <th>Glucose</th>\n",
              "      <th>BloodPressure</th>\n",
              "      <th>SkinThickness</th>\n",
              "      <th>Insulin</th>\n",
              "      <th>BMI</th>\n",
              "      <th>DiabetesPedigreeFunction</th>\n",
              "      <th>Age</th>\n",
              "      <th>Outcome</th>\n",
              "    </tr>\n",
              "  </thead>\n",
              "  <tbody>\n",
              "    <tr>\n",
              "      <th>0</th>\n",
              "      <td>1</td>\n",
              "      <td>6</td>\n",
              "      <td>148</td>\n",
              "      <td>72</td>\n",
              "      <td>35</td>\n",
              "      <td>0</td>\n",
              "      <td>33.6</td>\n",
              "      <td>0.627</td>\n",
              "      <td>50</td>\n",
              "      <td>1</td>\n",
              "    </tr>\n",
              "    <tr>\n",
              "      <th>1</th>\n",
              "      <td>2</td>\n",
              "      <td>1</td>\n",
              "      <td>85</td>\n",
              "      <td>66</td>\n",
              "      <td>29</td>\n",
              "      <td>0</td>\n",
              "      <td>26.6</td>\n",
              "      <td>0.351</td>\n",
              "      <td>31</td>\n",
              "      <td>0</td>\n",
              "    </tr>\n",
              "    <tr>\n",
              "      <th>2</th>\n",
              "      <td>3</td>\n",
              "      <td>8</td>\n",
              "      <td>183</td>\n",
              "      <td>64</td>\n",
              "      <td>0</td>\n",
              "      <td>0</td>\n",
              "      <td>23.3</td>\n",
              "      <td>0.672</td>\n",
              "      <td>32</td>\n",
              "      <td>1</td>\n",
              "    </tr>\n",
              "    <tr>\n",
              "      <th>3</th>\n",
              "      <td>4</td>\n",
              "      <td>1</td>\n",
              "      <td>89</td>\n",
              "      <td>66</td>\n",
              "      <td>23</td>\n",
              "      <td>94</td>\n",
              "      <td>28.1</td>\n",
              "      <td>0.167</td>\n",
              "      <td>21</td>\n",
              "      <td>0</td>\n",
              "    </tr>\n",
              "    <tr>\n",
              "      <th>4</th>\n",
              "      <td>5</td>\n",
              "      <td>0</td>\n",
              "      <td>137</td>\n",
              "      <td>40</td>\n",
              "      <td>35</td>\n",
              "      <td>168</td>\n",
              "      <td>43.1</td>\n",
              "      <td>2.288</td>\n",
              "      <td>33</td>\n",
              "      <td>1</td>\n",
              "    </tr>\n",
              "    <tr>\n",
              "      <th>5</th>\n",
              "      <td>6</td>\n",
              "      <td>5</td>\n",
              "      <td>116</td>\n",
              "      <td>74</td>\n",
              "      <td>0</td>\n",
              "      <td>0</td>\n",
              "      <td>25.6</td>\n",
              "      <td>0.201</td>\n",
              "      <td>30</td>\n",
              "      <td>0</td>\n",
              "    </tr>\n",
              "    <tr>\n",
              "      <th>6</th>\n",
              "      <td>7</td>\n",
              "      <td>3</td>\n",
              "      <td>78</td>\n",
              "      <td>50</td>\n",
              "      <td>32</td>\n",
              "      <td>88</td>\n",
              "      <td>31.0</td>\n",
              "      <td>0.248</td>\n",
              "      <td>26</td>\n",
              "      <td>1</td>\n",
              "    </tr>\n",
              "    <tr>\n",
              "      <th>7</th>\n",
              "      <td>8</td>\n",
              "      <td>10</td>\n",
              "      <td>115</td>\n",
              "      <td>0</td>\n",
              "      <td>0</td>\n",
              "      <td>0</td>\n",
              "      <td>35.3</td>\n",
              "      <td>0.134</td>\n",
              "      <td>29</td>\n",
              "      <td>0</td>\n",
              "    </tr>\n",
              "    <tr>\n",
              "      <th>8</th>\n",
              "      <td>9</td>\n",
              "      <td>2</td>\n",
              "      <td>197</td>\n",
              "      <td>70</td>\n",
              "      <td>45</td>\n",
              "      <td>543</td>\n",
              "      <td>30.5</td>\n",
              "      <td>0.158</td>\n",
              "      <td>53</td>\n",
              "      <td>1</td>\n",
              "    </tr>\n",
              "    <tr>\n",
              "      <th>9</th>\n",
              "      <td>10</td>\n",
              "      <td>8</td>\n",
              "      <td>125</td>\n",
              "      <td>96</td>\n",
              "      <td>0</td>\n",
              "      <td>0</td>\n",
              "      <td>0.0</td>\n",
              "      <td>0.232</td>\n",
              "      <td>54</td>\n",
              "      <td>1</td>\n",
              "    </tr>\n",
              "  </tbody>\n",
              "</table>\n",
              "</div>\n",
              "    <div class=\"colab-df-buttons\">\n",
              "\n",
              "  <div class=\"colab-df-container\">\n",
              "    <button class=\"colab-df-convert\" onclick=\"convertToInteractive('df-f17e9e38-56df-4590-be57-684d3fdc9f2c')\"\n",
              "            title=\"Convert this dataframe to an interactive table.\"\n",
              "            style=\"display:none;\">\n",
              "\n",
              "  <svg xmlns=\"http://www.w3.org/2000/svg\" height=\"24px\" viewBox=\"0 -960 960 960\">\n",
              "    <path d=\"M120-120v-720h720v720H120Zm60-500h600v-160H180v160Zm220 220h160v-160H400v160Zm0 220h160v-160H400v160ZM180-400h160v-160H180v160Zm440 0h160v-160H620v160ZM180-180h160v-160H180v160Zm440 0h160v-160H620v160Z\"/>\n",
              "  </svg>\n",
              "    </button>\n",
              "\n",
              "  <style>\n",
              "    .colab-df-container {\n",
              "      display:flex;\n",
              "      gap: 12px;\n",
              "    }\n",
              "\n",
              "    .colab-df-convert {\n",
              "      background-color: #E8F0FE;\n",
              "      border: none;\n",
              "      border-radius: 50%;\n",
              "      cursor: pointer;\n",
              "      display: none;\n",
              "      fill: #1967D2;\n",
              "      height: 32px;\n",
              "      padding: 0 0 0 0;\n",
              "      width: 32px;\n",
              "    }\n",
              "\n",
              "    .colab-df-convert:hover {\n",
              "      background-color: #E2EBFA;\n",
              "      box-shadow: 0px 1px 2px rgba(60, 64, 67, 0.3), 0px 1px 3px 1px rgba(60, 64, 67, 0.15);\n",
              "      fill: #174EA6;\n",
              "    }\n",
              "\n",
              "    .colab-df-buttons div {\n",
              "      margin-bottom: 4px;\n",
              "    }\n",
              "\n",
              "    [theme=dark] .colab-df-convert {\n",
              "      background-color: #3B4455;\n",
              "      fill: #D2E3FC;\n",
              "    }\n",
              "\n",
              "    [theme=dark] .colab-df-convert:hover {\n",
              "      background-color: #434B5C;\n",
              "      box-shadow: 0px 1px 3px 1px rgba(0, 0, 0, 0.15);\n",
              "      filter: drop-shadow(0px 1px 2px rgba(0, 0, 0, 0.3));\n",
              "      fill: #FFFFFF;\n",
              "    }\n",
              "  </style>\n",
              "\n",
              "    <script>\n",
              "      const buttonEl =\n",
              "        document.querySelector('#df-f17e9e38-56df-4590-be57-684d3fdc9f2c button.colab-df-convert');\n",
              "      buttonEl.style.display =\n",
              "        google.colab.kernel.accessAllowed ? 'block' : 'none';\n",
              "\n",
              "      async function convertToInteractive(key) {\n",
              "        const element = document.querySelector('#df-f17e9e38-56df-4590-be57-684d3fdc9f2c');\n",
              "        const dataTable =\n",
              "          await google.colab.kernel.invokeFunction('convertToInteractive',\n",
              "                                                    [key], {});\n",
              "        if (!dataTable) return;\n",
              "\n",
              "        const docLinkHtml = 'Like what you see? Visit the ' +\n",
              "          '<a target=\"_blank\" href=https://colab.research.google.com/notebooks/data_table.ipynb>data table notebook</a>'\n",
              "          + ' to learn more about interactive tables.';\n",
              "        element.innerHTML = '';\n",
              "        dataTable['output_type'] = 'display_data';\n",
              "        await google.colab.output.renderOutput(dataTable, element);\n",
              "        const docLink = document.createElement('div');\n",
              "        docLink.innerHTML = docLinkHtml;\n",
              "        element.appendChild(docLink);\n",
              "      }\n",
              "    </script>\n",
              "  </div>\n",
              "\n",
              "\n",
              "<div id=\"df-d58c3507-50cc-4ea6-beb5-ce42ad7f8de4\">\n",
              "  <button class=\"colab-df-quickchart\" onclick=\"quickchart('df-d58c3507-50cc-4ea6-beb5-ce42ad7f8de4')\"\n",
              "            title=\"Suggest charts.\"\n",
              "            style=\"display:none;\">\n",
              "\n",
              "<svg xmlns=\"http://www.w3.org/2000/svg\" height=\"24px\"viewBox=\"0 0 24 24\"\n",
              "     width=\"24px\">\n",
              "    <g>\n",
              "        <path d=\"M19 3H5c-1.1 0-2 .9-2 2v14c0 1.1.9 2 2 2h14c1.1 0 2-.9 2-2V5c0-1.1-.9-2-2-2zM9 17H7v-7h2v7zm4 0h-2V7h2v10zm4 0h-2v-4h2v4z\"/>\n",
              "    </g>\n",
              "</svg>\n",
              "  </button>\n",
              "\n",
              "<style>\n",
              "  .colab-df-quickchart {\n",
              "      --bg-color: #E8F0FE;\n",
              "      --fill-color: #1967D2;\n",
              "      --hover-bg-color: #E2EBFA;\n",
              "      --hover-fill-color: #174EA6;\n",
              "      --disabled-fill-color: #AAA;\n",
              "      --disabled-bg-color: #DDD;\n",
              "  }\n",
              "\n",
              "  [theme=dark] .colab-df-quickchart {\n",
              "      --bg-color: #3B4455;\n",
              "      --fill-color: #D2E3FC;\n",
              "      --hover-bg-color: #434B5C;\n",
              "      --hover-fill-color: #FFFFFF;\n",
              "      --disabled-bg-color: #3B4455;\n",
              "      --disabled-fill-color: #666;\n",
              "  }\n",
              "\n",
              "  .colab-df-quickchart {\n",
              "    background-color: var(--bg-color);\n",
              "    border: none;\n",
              "    border-radius: 50%;\n",
              "    cursor: pointer;\n",
              "    display: none;\n",
              "    fill: var(--fill-color);\n",
              "    height: 32px;\n",
              "    padding: 0;\n",
              "    width: 32px;\n",
              "  }\n",
              "\n",
              "  .colab-df-quickchart:hover {\n",
              "    background-color: var(--hover-bg-color);\n",
              "    box-shadow: 0 1px 2px rgba(60, 64, 67, 0.3), 0 1px 3px 1px rgba(60, 64, 67, 0.15);\n",
              "    fill: var(--button-hover-fill-color);\n",
              "  }\n",
              "\n",
              "  .colab-df-quickchart-complete:disabled,\n",
              "  .colab-df-quickchart-complete:disabled:hover {\n",
              "    background-color: var(--disabled-bg-color);\n",
              "    fill: var(--disabled-fill-color);\n",
              "    box-shadow: none;\n",
              "  }\n",
              "\n",
              "  .colab-df-spinner {\n",
              "    border: 2px solid var(--fill-color);\n",
              "    border-color: transparent;\n",
              "    border-bottom-color: var(--fill-color);\n",
              "    animation:\n",
              "      spin 1s steps(1) infinite;\n",
              "  }\n",
              "\n",
              "  @keyframes spin {\n",
              "    0% {\n",
              "      border-color: transparent;\n",
              "      border-bottom-color: var(--fill-color);\n",
              "      border-left-color: var(--fill-color);\n",
              "    }\n",
              "    20% {\n",
              "      border-color: transparent;\n",
              "      border-left-color: var(--fill-color);\n",
              "      border-top-color: var(--fill-color);\n",
              "    }\n",
              "    30% {\n",
              "      border-color: transparent;\n",
              "      border-left-color: var(--fill-color);\n",
              "      border-top-color: var(--fill-color);\n",
              "      border-right-color: var(--fill-color);\n",
              "    }\n",
              "    40% {\n",
              "      border-color: transparent;\n",
              "      border-right-color: var(--fill-color);\n",
              "      border-top-color: var(--fill-color);\n",
              "    }\n",
              "    60% {\n",
              "      border-color: transparent;\n",
              "      border-right-color: var(--fill-color);\n",
              "    }\n",
              "    80% {\n",
              "      border-color: transparent;\n",
              "      border-right-color: var(--fill-color);\n",
              "      border-bottom-color: var(--fill-color);\n",
              "    }\n",
              "    90% {\n",
              "      border-color: transparent;\n",
              "      border-bottom-color: var(--fill-color);\n",
              "    }\n",
              "  }\n",
              "</style>\n",
              "\n",
              "  <script>\n",
              "    async function quickchart(key) {\n",
              "      const quickchartButtonEl =\n",
              "        document.querySelector('#' + key + ' button');\n",
              "      quickchartButtonEl.disabled = true;  // To prevent multiple clicks.\n",
              "      quickchartButtonEl.classList.add('colab-df-spinner');\n",
              "      try {\n",
              "        const charts = await google.colab.kernel.invokeFunction(\n",
              "            'suggestCharts', [key], {});\n",
              "      } catch (error) {\n",
              "        console.error('Error during call to suggestCharts:', error);\n",
              "      }\n",
              "      quickchartButtonEl.classList.remove('colab-df-spinner');\n",
              "      quickchartButtonEl.classList.add('colab-df-quickchart-complete');\n",
              "    }\n",
              "    (() => {\n",
              "      let quickchartButtonEl =\n",
              "        document.querySelector('#df-d58c3507-50cc-4ea6-beb5-ce42ad7f8de4 button');\n",
              "      quickchartButtonEl.style.display =\n",
              "        google.colab.kernel.accessAllowed ? 'block' : 'none';\n",
              "    })();\n",
              "  </script>\n",
              "</div>\n",
              "    </div>\n",
              "  </div>\n"
            ]
          },
          "metadata": {},
          "execution_count": 3
        }
      ]
    },
    {
      "cell_type": "markdown",
      "source": [
        "## Performing Univariate Analysis"
      ],
      "metadata": {
        "id": "VK-8rIR3o3FU"
      }
    },
    {
      "cell_type": "markdown",
      "source": [
        "### Calculating the Mean for Each Column"
      ],
      "metadata": {
        "id": "KH-p4LqzpRMA"
      }
    },
    {
      "cell_type": "code",
      "source": [
        "HC_DM_df_description = HC_DM_df.describe()\n",
        "print(HC_DM_df_description)"
      ],
      "metadata": {
        "colab": {
          "base_uri": "https://localhost:8080/"
        },
        "id": "0s5vEa5rpMLe",
        "outputId": "9470244c-9979-4a08-8d2a-24ce5b1a5028"
      },
      "execution_count": 5,
      "outputs": [
        {
          "output_type": "stream",
          "name": "stdout",
          "text": [
            "                Id  Pregnancies      Glucose  BloodPressure  SkinThickness  \\\n",
            "count  2768.000000  2768.000000  2768.000000    2768.000000    2768.000000   \n",
            "mean   1384.500000     3.742775   121.102601      69.134393      20.824422   \n",
            "std     799.197097     3.323801    32.036508      19.231438      16.059596   \n",
            "min       1.000000     0.000000     0.000000       0.000000       0.000000   \n",
            "25%     692.750000     1.000000    99.000000      62.000000       0.000000   \n",
            "50%    1384.500000     3.000000   117.000000      72.000000      23.000000   \n",
            "75%    2076.250000     6.000000   141.000000      80.000000      32.000000   \n",
            "max    2768.000000    17.000000   199.000000     122.000000     110.000000   \n",
            "\n",
            "           Insulin          BMI  DiabetesPedigreeFunction          Age  \\\n",
            "count  2768.000000  2768.000000               2768.000000  2768.000000   \n",
            "mean     80.127890    32.137392                  0.471193    33.132225   \n",
            "std     112.301933     8.076127                  0.325669    11.777230   \n",
            "min       0.000000     0.000000                  0.078000    21.000000   \n",
            "25%       0.000000    27.300000                  0.244000    24.000000   \n",
            "50%      37.000000    32.200000                  0.375000    29.000000   \n",
            "75%     130.000000    36.625000                  0.624000    40.000000   \n",
            "max     846.000000    80.600000                  2.420000    81.000000   \n",
            "\n",
            "           Outcome  \n",
            "count  2768.000000  \n",
            "mean      0.343931  \n",
            "std       0.475104  \n",
            "min       0.000000  \n",
            "25%       0.000000  \n",
            "50%       0.000000  \n",
            "75%       1.000000  \n",
            "max       1.000000  \n"
          ]
        }
      ]
    },
    {
      "cell_type": "markdown",
      "source": [
        "## Calculating the Median for Each Column"
      ],
      "metadata": {
        "id": "CfGyl1zRqdZL"
      }
    },
    {
      "cell_type": "code",
      "source": [
        "median_value_Pregnancies = HC_DM_df['Pregnancies'].median()\n",
        "print(\"Median Pregnancies:\", median_value_Pregnancies)"
      ],
      "metadata": {
        "colab": {
          "base_uri": "https://localhost:8080/"
        },
        "id": "OAvWflVkqpZc",
        "outputId": "7a67d0c2-5521-4d55-e77e-38433636ffd6"
      },
      "execution_count": 7,
      "outputs": [
        {
          "output_type": "stream",
          "name": "stdout",
          "text": [
            "Median Pregnancies: 3.0\n"
          ]
        }
      ]
    },
    {
      "cell_type": "code",
      "source": [
        "median_value_Glucose = HC_DM_df['Glucose'].median()\n",
        "print(\"Median Glucose:\", median_value_Glucose)"
      ],
      "metadata": {
        "colab": {
          "base_uri": "https://localhost:8080/"
        },
        "id": "3OSHUF19rHLf",
        "outputId": "56b662bb-d523-46ab-cdb2-87afcb2962a5"
      },
      "execution_count": 8,
      "outputs": [
        {
          "output_type": "stream",
          "name": "stdout",
          "text": [
            "Median Glucose: 117.0\n"
          ]
        }
      ]
    },
    {
      "cell_type": "code",
      "source": [
        "median_value_BloodPressure = HC_DM_df['BloodPressure'].median()\n",
        "print(\"Median BloodPressure:\", median_value_BloodPressure)"
      ],
      "metadata": {
        "colab": {
          "base_uri": "https://localhost:8080/"
        },
        "id": "d5iHR8eGrY58",
        "outputId": "185b01cc-2af0-4a1a-e89a-bfb19c4e1d7a"
      },
      "execution_count": 9,
      "outputs": [
        {
          "output_type": "stream",
          "name": "stdout",
          "text": [
            "Median BloodPressure: 72.0\n"
          ]
        }
      ]
    },
    {
      "cell_type": "code",
      "source": [
        "median_value_SkinThickness = HC_DM_df['SkinThickness'].median()\n",
        "print(\"Median SkinThickness:\", median_value_SkinThickness)"
      ],
      "metadata": {
        "colab": {
          "base_uri": "https://localhost:8080/"
        },
        "id": "nrRZ_s6Prhsp",
        "outputId": "a787f268-f41c-432e-a223-ec323f45b470"
      },
      "execution_count": 10,
      "outputs": [
        {
          "output_type": "stream",
          "name": "stdout",
          "text": [
            "Median SkinThickness: 23.0\n"
          ]
        }
      ]
    },
    {
      "cell_type": "code",
      "source": [
        "median_value_Insulin = HC_DM_df['Insulin'].median()\n",
        "print(\"Median Insulin:\", median_value_Insulin)"
      ],
      "metadata": {
        "colab": {
          "base_uri": "https://localhost:8080/"
        },
        "id": "FurpTbZkrqxT",
        "outputId": "08f06601-efe0-4a59-b16c-29b1fe3778ac"
      },
      "execution_count": 11,
      "outputs": [
        {
          "output_type": "stream",
          "name": "stdout",
          "text": [
            "Median Insulin: 37.0\n"
          ]
        }
      ]
    },
    {
      "cell_type": "code",
      "source": [
        "median_value_BMI = HC_DM_df['BMI'].median()\n",
        "print(\"Median BMI:\", median_value_BMI)"
      ],
      "metadata": {
        "colab": {
          "base_uri": "https://localhost:8080/"
        },
        "id": "uqN-vSUlrzVi",
        "outputId": "f43a830c-59c5-4c82-b94d-b2a666518655"
      },
      "execution_count": 12,
      "outputs": [
        {
          "output_type": "stream",
          "name": "stdout",
          "text": [
            "Median BMI: 32.2\n"
          ]
        }
      ]
    },
    {
      "cell_type": "code",
      "source": [
        "median_value_DiabetesPedigreeFunction = HC_DM_df['DiabetesPedigreeFunction'].median()\n",
        "print(\"Median DiabetesPedigreeFunction:\", median_value_DiabetesPedigreeFunction)"
      ],
      "metadata": {
        "colab": {
          "base_uri": "https://localhost:8080/"
        },
        "id": "3VUjD6LesBX9",
        "outputId": "baf7d777-734f-41e8-af6e-d4bf9aa56054"
      },
      "execution_count": 13,
      "outputs": [
        {
          "output_type": "stream",
          "name": "stdout",
          "text": [
            "Median DiabetesPedigreeFunction: 0.375\n"
          ]
        }
      ]
    },
    {
      "cell_type": "code",
      "source": [
        "median_value_Age = HC_DM_df['Age'].median()\n",
        "print(\"Median Age:\", median_value_Age)"
      ],
      "metadata": {
        "colab": {
          "base_uri": "https://localhost:8080/"
        },
        "id": "s3M4Ga5qsKlF",
        "outputId": "1eead990-778e-467b-ff04-3a15703b5e4c"
      },
      "execution_count": 14,
      "outputs": [
        {
          "output_type": "stream",
          "name": "stdout",
          "text": [
            "Median Age: 29.0\n"
          ]
        }
      ]
    },
    {
      "cell_type": "code",
      "source": [
        "median_value_Outcome = HC_DM_df['Outcome'].median()\n",
        "print(\"Median Outcome:\", median_value_Outcome)"
      ],
      "metadata": {
        "colab": {
          "base_uri": "https://localhost:8080/"
        },
        "id": "YiC84rE-sT69",
        "outputId": "275e52e3-3255-4c69-b94c-d1f38badc27a"
      },
      "execution_count": 15,
      "outputs": [
        {
          "output_type": "stream",
          "name": "stdout",
          "text": [
            "Median Outcome: 0.0\n"
          ]
        }
      ]
    },
    {
      "cell_type": "markdown",
      "source": [
        "## Calculating the Mode for Each Column"
      ],
      "metadata": {
        "id": "0boqV3Qeso9x"
      }
    },
    {
      "cell_type": "code",
      "source": [
        "mode_value_Pregnancies = HC_DM_df['Pregnancies'].mode().iloc[0]\n",
        "print(\"Mode Pregnancies:\", mode_value_Pregnancies)"
      ],
      "metadata": {
        "colab": {
          "base_uri": "https://localhost:8080/"
        },
        "id": "XUM49ntnssdG",
        "outputId": "bb735453-2a8c-413a-a357-d847f0f32861"
      },
      "execution_count": 17,
      "outputs": [
        {
          "output_type": "stream",
          "name": "stdout",
          "text": [
            "Mode Pregnancies: 1\n"
          ]
        }
      ]
    },
    {
      "cell_type": "code",
      "source": [
        "mode_value_Glucose = HC_DM_df['Glucose'].mode().iloc[0]\n",
        "print(\"Mode Glucose:\", mode_value_Glucose)"
      ],
      "metadata": {
        "colab": {
          "base_uri": "https://localhost:8080/"
        },
        "id": "UOF6MlqztUv7",
        "outputId": "0085ae25-faa7-4a94-f9d7-95359888ff99"
      },
      "execution_count": 18,
      "outputs": [
        {
          "output_type": "stream",
          "name": "stdout",
          "text": [
            "Mode Glucose: 99\n"
          ]
        }
      ]
    },
    {
      "cell_type": "code",
      "source": [
        "mode_value_BloodPressure = HC_DM_df['BloodPressure'].mode().iloc[0]\n",
        "print(\"Mode BloodPressure:\", mode_value_BloodPressure)"
      ],
      "metadata": {
        "colab": {
          "base_uri": "https://localhost:8080/"
        },
        "id": "Ji4Y1oAmtfUG",
        "outputId": "0da1cb43-c485-45e5-8ef8-cd957c0eccd7"
      },
      "execution_count": 19,
      "outputs": [
        {
          "output_type": "stream",
          "name": "stdout",
          "text": [
            "Mode BloodPressure: 70\n"
          ]
        }
      ]
    },
    {
      "cell_type": "code",
      "source": [
        "mode_value_SkinThickness = HC_DM_df['SkinThickness'].mode().iloc[0]\n",
        "print(\"Mode SkinThickness:\", mode_value_SkinThickness)"
      ],
      "metadata": {
        "colab": {
          "base_uri": "https://localhost:8080/"
        },
        "id": "tm-JgtZ5tnXv",
        "outputId": "b1da72eb-edc1-443d-8a65-f56c92851e5e"
      },
      "execution_count": 20,
      "outputs": [
        {
          "output_type": "stream",
          "name": "stdout",
          "text": [
            "Mode SkinThickness: 0\n"
          ]
        }
      ]
    },
    {
      "cell_type": "code",
      "source": [
        "mode_value_Insulin = HC_DM_df['Insulin'].mode().iloc[0]\n",
        "print(\"Mode Insulin:\", mode_value_Insulin)"
      ],
      "metadata": {
        "colab": {
          "base_uri": "https://localhost:8080/"
        },
        "id": "PwD1ZKDVt1HJ",
        "outputId": "d0fab933-bf36-4ae6-9a20-b335b79d14dc"
      },
      "execution_count": 21,
      "outputs": [
        {
          "output_type": "stream",
          "name": "stdout",
          "text": [
            "Mode Insulin: 0\n"
          ]
        }
      ]
    },
    {
      "cell_type": "code",
      "source": [
        "mode_value_BMI = HC_DM_df['BMI'].mode().iloc[0]\n",
        "print(\"Mode BMI:\", mode_value_BMI)"
      ],
      "metadata": {
        "colab": {
          "base_uri": "https://localhost:8080/"
        },
        "id": "6oW6ycqAt_N9",
        "outputId": "55fb210e-486e-46ec-a2c9-a0951cf8da0d"
      },
      "execution_count": 22,
      "outputs": [
        {
          "output_type": "stream",
          "name": "stdout",
          "text": [
            "Mode BMI: 32.0\n"
          ]
        }
      ]
    },
    {
      "cell_type": "code",
      "source": [
        "mode_value_DiabetesPedigreeFunction = HC_DM_df['DiabetesPedigreeFunction'].mode().iloc[0]\n",
        "print(\"Mode DiabetesPedigreeFunction:\", mode_value_DiabetesPedigreeFunction)"
      ],
      "metadata": {
        "colab": {
          "base_uri": "https://localhost:8080/"
        },
        "id": "Bp8HX8g3uHxC",
        "outputId": "09ab0568-7489-468f-8d1e-a6d742103f77"
      },
      "execution_count": 23,
      "outputs": [
        {
          "output_type": "stream",
          "name": "stdout",
          "text": [
            "Mode DiabetesPedigreeFunction: 0.258\n"
          ]
        }
      ]
    },
    {
      "cell_type": "code",
      "source": [
        "mode_value_Age = HC_DM_df['Age'].mode().iloc[0]\n",
        "print(\"Mode Age:\", mode_value_Age)"
      ],
      "metadata": {
        "colab": {
          "base_uri": "https://localhost:8080/"
        },
        "id": "-vwDwgqFuVhn",
        "outputId": "6ea9eec1-f39e-42dd-8521-a6a67009b608"
      },
      "execution_count": 24,
      "outputs": [
        {
          "output_type": "stream",
          "name": "stdout",
          "text": [
            "Mode Age: 22\n"
          ]
        }
      ]
    },
    {
      "cell_type": "code",
      "source": [
        "mode_value_Outcome = HC_DM_df['Outcome'].mode().iloc[0]\n",
        "print(\"Mode Outcome:\", mode_value_Outcome)"
      ],
      "metadata": {
        "colab": {
          "base_uri": "https://localhost:8080/"
        },
        "id": "eZ_6uaatuj_k",
        "outputId": "a7fafd41-1d48-476c-ddbf-2871b6e5eddf"
      },
      "execution_count": 25,
      "outputs": [
        {
          "output_type": "stream",
          "name": "stdout",
          "text": [
            "Mode Outcome: 0\n"
          ]
        }
      ]
    },
    {
      "cell_type": "markdown",
      "source": [
        "## Calculating the Range for Each Column"
      ],
      "metadata": {
        "id": "phsKbG3_u38O"
      }
    },
    {
      "cell_type": "code",
      "source": [
        "data_range_Pregnancies = HC_DM_df['Pregnancies'].max() - HC_DM_df['Pregnancies'].min()\n",
        "print(\"Data Range (Pregnancies):\", data_range_Pregnancies)"
      ],
      "metadata": {
        "colab": {
          "base_uri": "https://localhost:8080/"
        },
        "id": "6tKAyliWvDHs",
        "outputId": "eb372b1d-bb63-4594-bb28-d271bee32fe9"
      },
      "execution_count": 27,
      "outputs": [
        {
          "output_type": "stream",
          "name": "stdout",
          "text": [
            "Data Range (Pregnancies): 17\n"
          ]
        }
      ]
    },
    {
      "cell_type": "code",
      "source": [
        "data_range_Glucose = HC_DM_df['Glucose'].max() - HC_DM_df['Glucose'].min()\n",
        "print(\"Data Range (Glucose):\", data_range_Glucose)"
      ],
      "metadata": {
        "colab": {
          "base_uri": "https://localhost:8080/"
        },
        "id": "0yMzDzFTwFUU",
        "outputId": "a138fe1b-55a5-4e20-8da5-7a10f3fa7b45"
      },
      "execution_count": 28,
      "outputs": [
        {
          "output_type": "stream",
          "name": "stdout",
          "text": [
            "Data Range (Glucose): 199\n"
          ]
        }
      ]
    },
    {
      "cell_type": "code",
      "source": [
        "data_range_BloodPressure = HC_DM_df['BloodPressure'].max() - HC_DM_df['BloodPressure'].min()\n",
        "print(\"Data Range (BloodPressure):\", data_range_BloodPressure)"
      ],
      "metadata": {
        "colab": {
          "base_uri": "https://localhost:8080/"
        },
        "id": "Ts01GxepwOK3",
        "outputId": "d8074655-03c2-46d1-92a2-9fa0bbe98243"
      },
      "execution_count": 29,
      "outputs": [
        {
          "output_type": "stream",
          "name": "stdout",
          "text": [
            "Data Range (BloodPressure): 122\n"
          ]
        }
      ]
    },
    {
      "cell_type": "code",
      "source": [
        "data_range_SkinThickness = HC_DM_df['SkinThickness'].max() - HC_DM_df['SkinThickness'].min()\n",
        "print(\"Data Range (SkinThickness):\", data_range_SkinThickness)"
      ],
      "metadata": {
        "colab": {
          "base_uri": "https://localhost:8080/"
        },
        "id": "Gdy_I1lPwf2_",
        "outputId": "4adfa0cd-678d-42bd-e5da-ac1295792ab4"
      },
      "execution_count": 30,
      "outputs": [
        {
          "output_type": "stream",
          "name": "stdout",
          "text": [
            "Data Range (SkinThickness): 110\n"
          ]
        }
      ]
    },
    {
      "cell_type": "code",
      "source": [
        "data_range_Insulin = HC_DM_df['Insulin'].max() - HC_DM_df['Insulin'].min()\n",
        "print(\"Data Range (Insulin):\", data_range_Insulin)"
      ],
      "metadata": {
        "colab": {
          "base_uri": "https://localhost:8080/"
        },
        "id": "f-8QUiNKwvWd",
        "outputId": "487ce0e7-9034-42f5-a4ac-21b91e720118"
      },
      "execution_count": 31,
      "outputs": [
        {
          "output_type": "stream",
          "name": "stdout",
          "text": [
            "Data Range (Insulin): 846\n"
          ]
        }
      ]
    },
    {
      "cell_type": "code",
      "source": [
        "data_range_BMI = HC_DM_df['BMI'].max() - HC_DM_df['BMI'].min()\n",
        "print(\"Data Range (BMI):\", data_range_BMI)"
      ],
      "metadata": {
        "colab": {
          "base_uri": "https://localhost:8080/"
        },
        "id": "8tfxUhlpw_uK",
        "outputId": "dd0e478a-9395-4ac1-f364-bb0eaabd04b0"
      },
      "execution_count": 32,
      "outputs": [
        {
          "output_type": "stream",
          "name": "stdout",
          "text": [
            "Data Range (BMI): 80.6\n"
          ]
        }
      ]
    },
    {
      "cell_type": "code",
      "source": [
        "data_range_DiabetesPedigreeFunction = HC_DM_df['DiabetesPedigreeFunction'].max() - HC_DM_df['DiabetesPedigreeFunction'].min()\n",
        "print(\"Data Range (DiabetesPedigreeFunction):\", data_range_DiabetesPedigreeFunction)"
      ],
      "metadata": {
        "colab": {
          "base_uri": "https://localhost:8080/"
        },
        "id": "XT5tZmsmxJEr",
        "outputId": "f91aad6c-6d73-42d7-e485-2c47d08ab024"
      },
      "execution_count": 33,
      "outputs": [
        {
          "output_type": "stream",
          "name": "stdout",
          "text": [
            "Data Range (DiabetesPedigreeFunction): 2.342\n"
          ]
        }
      ]
    },
    {
      "cell_type": "code",
      "source": [
        "data_range_Age = HC_DM_df['Age'].max() - HC_DM_df['Age'].min()\n",
        "print(\"Data Range (Age):\", data_range_Age)"
      ],
      "metadata": {
        "colab": {
          "base_uri": "https://localhost:8080/"
        },
        "id": "c3BABNwMxS_j",
        "outputId": "44abbb6a-9911-4977-c8ec-bc78c6685152"
      },
      "execution_count": 34,
      "outputs": [
        {
          "output_type": "stream",
          "name": "stdout",
          "text": [
            "Data Range (Age): 60\n"
          ]
        }
      ]
    },
    {
      "cell_type": "code",
      "source": [
        "data_range_Outcome = HC_DM_df['Outcome'].max() - HC_DM_df['Outcome'].min()\n",
        "print(\"Data Range (Outcome):\", data_range_Outcome)"
      ],
      "metadata": {
        "colab": {
          "base_uri": "https://localhost:8080/"
        },
        "id": "XM5BJcaMxiiP",
        "outputId": "bd7293f0-ce65-428f-c498-9420a315a29a"
      },
      "execution_count": 35,
      "outputs": [
        {
          "output_type": "stream",
          "name": "stdout",
          "text": [
            "Data Range (Outcome): 1\n"
          ]
        }
      ]
    },
    {
      "cell_type": "markdown",
      "source": [
        "## Calculating the Variance"
      ],
      "metadata": {
        "id": "AM1-2yK2x0j3"
      }
    },
    {
      "cell_type": "code",
      "source": [
        "variance_Pregnancies = np.var(HC_DM_df['Pregnancies'])\n",
        "print(\"Variance Pregnancies:\", variance_Pregnancies)"
      ],
      "metadata": {
        "colab": {
          "base_uri": "https://localhost:8080/"
        },
        "id": "r4yVIY5Ex5oZ",
        "outputId": "7da72a49-fc1f-413e-c814-9240b8632f01"
      },
      "execution_count": 38,
      "outputs": [
        {
          "output_type": "stream",
          "name": "stdout",
          "text": [
            "Variance Pregnancies: 11.04366166594273\n"
          ]
        }
      ]
    },
    {
      "cell_type": "code",
      "source": [
        "variance_Glucose = np.var(HC_DM_df['Glucose'])\n",
        "print(\"Variance Glucose:\", variance_Glucose)"
      ],
      "metadata": {
        "colab": {
          "base_uri": "https://localhost:8080/"
        },
        "id": "34LBxwXxynuN",
        "outputId": "72fbfcf6-5416-40ba-aad3-53511434f63d"
      },
      "execution_count": 39,
      "outputs": [
        {
          "output_type": "stream",
          "name": "stdout",
          "text": [
            "Variance Glucose: 1025.9670741588427\n"
          ]
        }
      ]
    },
    {
      "cell_type": "code",
      "source": [
        "variance_BloodPressure = np.var(HC_DM_df['BloodPressure'])\n",
        "print(\"Variance BloodPressure:\", variance_BloodPressure)"
      ],
      "metadata": {
        "colab": {
          "base_uri": "https://localhost:8080/"
        },
        "id": "TWAGHSc0yyxP",
        "outputId": "513b4d53-07fc-47e8-8038-479f1ff78fa4"
      },
      "execution_count": 40,
      "outputs": [
        {
          "output_type": "stream",
          "name": "stdout",
          "text": [
            "Variance BloodPressure: 369.71459746399813\n"
          ]
        }
      ]
    },
    {
      "cell_type": "code",
      "source": [
        "variance_SkinThickness = np.var(HC_DM_df['SkinThickness'])\n",
        "print(\"Variance SkinThickness:\", variance_SkinThickness)"
      ],
      "metadata": {
        "colab": {
          "base_uri": "https://localhost:8080/"
        },
        "id": "tdVUkVq2y_5o",
        "outputId": "c9593a8f-6015-4d08-c78f-c6b76d6492e9"
      },
      "execution_count": 41,
      "outputs": [
        {
          "output_type": "stream",
          "name": "stdout",
          "text": [
            "Variance SkinThickness: 257.8174382496909\n"
          ]
        }
      ]
    },
    {
      "cell_type": "code",
      "source": [
        "variance_Insulin = np.var(HC_DM_df['Insulin'])\n",
        "print(\"Variance Insulin:\", variance_Insulin)"
      ],
      "metadata": {
        "colab": {
          "base_uri": "https://localhost:8080/"
        },
        "id": "qno7CO7UzJ7-",
        "outputId": "9e5c0803-371d-4d80-a4d4-910ce40247ae"
      },
      "execution_count": 42,
      "outputs": [
        {
          "output_type": "stream",
          "name": "stdout",
          "text": [
            "Variance Insulin: 12607.16789265846\n"
          ]
        }
      ]
    },
    {
      "cell_type": "code",
      "source": [
        "variance_BMI = np.var(HC_DM_df['BMI'])\n",
        "print(\"Variance BMI:\", variance_BMI)"
      ],
      "metadata": {
        "colab": {
          "base_uri": "https://localhost:8080/"
        },
        "id": "yrqFPGAfzSU1",
        "outputId": "ce90529a-5db1-489c-e877-9c167a590a27"
      },
      "execution_count": 43,
      "outputs": [
        {
          "output_type": "stream",
          "name": "stdout",
          "text": [
            "Variance BMI: 65.20026732929391\n"
          ]
        }
      ]
    },
    {
      "cell_type": "code",
      "source": [
        "variance_DiabetesPedigreeFunction = np.var(HC_DM_df['DiabetesPedigreeFunction'])\n",
        "print(\"Variance DiabetesPedigreeFunction:\", variance_DiabetesPedigreeFunction)"
      ],
      "metadata": {
        "colab": {
          "base_uri": "https://localhost:8080/"
        },
        "id": "qrXhvr19zZ20",
        "outputId": "d1b81711-4757-4ba6-a0a1-1555f2131fdd"
      },
      "execution_count": 44,
      "outputs": [
        {
          "output_type": "stream",
          "name": "stdout",
          "text": [
            "Variance DiabetesPedigreeFunction: 0.10602187224230158\n"
          ]
        }
      ]
    },
    {
      "cell_type": "code",
      "source": [
        "variance_Age = np.var(HC_DM_df['Age'])\n",
        "print(\"Variance Age:\", variance_Age)"
      ],
      "metadata": {
        "colab": {
          "base_uri": "https://localhost:8080/"
        },
        "id": "RTSCITm3zhXS",
        "outputId": "ef02d825-b4e8-493f-b14f-9e2279e70f08"
      },
      "execution_count": 45,
      "outputs": [
        {
          "output_type": "stream",
          "name": "stdout",
          "text": [
            "Variance Age: 138.65303666594272\n"
          ]
        }
      ]
    },
    {
      "cell_type": "code",
      "source": [
        "variance_Outcome = np.var(HC_DM_df['Outcome'])\n",
        "print(\"Variance Outcome:\", variance_Outcome)"
      ],
      "metadata": {
        "colab": {
          "base_uri": "https://localhost:8080/"
        },
        "id": "aq-ejPD5zqhD",
        "outputId": "6dc640d0-b199-4be0-97aa-45586ef7c574"
      },
      "execution_count": 46,
      "outputs": [
        {
          "output_type": "stream",
          "name": "stdout",
          "text": [
            "Variance Outcome: 0.22564235357011594\n"
          ]
        }
      ]
    },
    {
      "cell_type": "markdown",
      "source": [
        "## Calculating the Standard Deviation for each Column"
      ],
      "metadata": {
        "id": "dNbu813Uz6Gj"
      }
    },
    {
      "cell_type": "code",
      "source": [
        "std_deviation_Pregnancies = np.std(HC_DM_df['Pregnancies'])\n",
        "print(\"Standard Deviation Pregnancies:\", std_deviation_Pregnancies)"
      ],
      "metadata": {
        "colab": {
          "base_uri": "https://localhost:8080/"
        },
        "id": "-B9L6g8az4rG",
        "outputId": "6e57fbb7-b1d6-493b-d0fc-9ff0347860d0"
      },
      "execution_count": 47,
      "outputs": [
        {
          "output_type": "stream",
          "name": "stdout",
          "text": [
            "Standard Deviation Pregnancies: 3.323200515458363\n"
          ]
        }
      ]
    },
    {
      "cell_type": "code",
      "source": [
        "std_deviation_Glucose = np.std(HC_DM_df['Glucose'])\n",
        "print(\"Standard Deviation Glucose:\", std_deviation_Glucose)"
      ],
      "metadata": {
        "colab": {
          "base_uri": "https://localhost:8080/"
        },
        "id": "v2popl9J0Tti",
        "outputId": "ec55c188-08a3-4989-cc7f-d767bd11aeaf"
      },
      "execution_count": 48,
      "outputs": [
        {
          "output_type": "stream",
          "name": "stdout",
          "text": [
            "Standard Deviation Glucose: 32.030720787376026\n"
          ]
        }
      ]
    },
    {
      "cell_type": "code",
      "source": [
        "std_deviation_BloodPressure = np.std(HC_DM_df['BloodPressure'])\n",
        "print(\"Standard Deviation BloodPressure:\", std_deviation_BloodPressure)"
      ],
      "metadata": {
        "colab": {
          "base_uri": "https://localhost:8080/"
        },
        "id": "d_h5FXdo0h2u",
        "outputId": "26d83a82-db41-4e12-bdc7-4fbaae56d213"
      },
      "execution_count": 49,
      "outputs": [
        {
          "output_type": "stream",
          "name": "stdout",
          "text": [
            "Standard Deviation BloodPressure: 19.22796394483821\n"
          ]
        }
      ]
    },
    {
      "cell_type": "code",
      "source": [
        "std_deviation_SkinThickness = np.std(HC_DM_df['SkinThickness'])\n",
        "print(\"Standard Deviation SkinThickness:\", std_deviation_SkinThickness)"
      ],
      "metadata": {
        "colab": {
          "base_uri": "https://localhost:8080/"
        },
        "id": "-WOcp7Bx0wGx",
        "outputId": "6024398f-2407-4f4c-994b-9c6b49e42c85"
      },
      "execution_count": 50,
      "outputs": [
        {
          "output_type": "stream",
          "name": "stdout",
          "text": [
            "Standard Deviation SkinThickness: 16.056694499481857\n"
          ]
        }
      ]
    },
    {
      "cell_type": "code",
      "source": [
        "std_deviation_Insulin = np.std(HC_DM_df['Insulin'])\n",
        "print(\"Standard Deviation Insulin:\", std_deviation_Insulin)"
      ],
      "metadata": {
        "colab": {
          "base_uri": "https://localhost:8080/"
        },
        "id": "4j1Bpm-21A6I",
        "outputId": "99d97016-c429-4d19-d108-503d615d6e01"
      },
      "execution_count": 51,
      "outputs": [
        {
          "output_type": "stream",
          "name": "stdout",
          "text": [
            "Standard Deviation Insulin: 112.28164539522236\n"
          ]
        }
      ]
    },
    {
      "cell_type": "code",
      "source": [
        "std_deviation_BMI = np.std(HC_DM_df['BMI'])\n",
        "print(\"Standard Deviation BMI:\", std_deviation_BMI)"
      ],
      "metadata": {
        "colab": {
          "base_uri": "https://localhost:8080/"
        },
        "id": "Te-5jHWm1Lx-",
        "outputId": "33f57bdd-6d8c-433b-d73d-378972408557"
      },
      "execution_count": 52,
      "outputs": [
        {
          "output_type": "stream",
          "name": "stdout",
          "text": [
            "Standard Deviation BMI: 8.074668248869045\n"
          ]
        }
      ]
    },
    {
      "cell_type": "code",
      "source": [
        "std_deviation_DiabetesPedigreeFunction = np.std(HC_DM_df['DiabetesPedigreeFunction'])\n",
        "print(\"Standard Deviation DiabetesPedigreeFunction:\", std_deviation_DiabetesPedigreeFunction)"
      ],
      "metadata": {
        "colab": {
          "base_uri": "https://localhost:8080/"
        },
        "id": "JwB2hKll1VA7",
        "outputId": "b4e23c75-fa60-45ec-efa5-b82f4a7ae24f"
      },
      "execution_count": 53,
      "outputs": [
        {
          "output_type": "stream",
          "name": "stdout",
          "text": [
            "Standard Deviation DiabetesPedigreeFunction: 0.3256100002185154\n"
          ]
        }
      ]
    },
    {
      "cell_type": "code",
      "source": [
        "std_deviation_Age = np.std(HC_DM_df['Age'])\n",
        "print(\"Standard Deviation Age:\", std_deviation_Age)"
      ],
      "metadata": {
        "colab": {
          "base_uri": "https://localhost:8080/"
        },
        "id": "wHYRC8VM1b1y",
        "outputId": "b0aef1a7-6a29-4554-b428-8e79279f7d3b"
      },
      "execution_count": 54,
      "outputs": [
        {
          "output_type": "stream",
          "name": "stdout",
          "text": [
            "Standard Deviation Age: 11.775102405751838\n"
          ]
        }
      ]
    },
    {
      "cell_type": "code",
      "source": [
        "std_deviation_Outcome = np.std(HC_DM_df['Outcome'])\n",
        "print(\"Standard Deviation Outcome':\", std_deviation_Outcome)"
      ],
      "metadata": {
        "colab": {
          "base_uri": "https://localhost:8080/"
        },
        "id": "2Fd2xB_C1mgX",
        "outputId": "6568c629-a18f-4ba7-db1c-af614666584c"
      },
      "execution_count": 56,
      "outputs": [
        {
          "output_type": "stream",
          "name": "stdout",
          "text": [
            "Standard Deviation Outcome': 0.4750182665646827\n"
          ]
        }
      ]
    },
    {
      "cell_type": "markdown",
      "source": [
        "## Calculating the IQR for Each Column"
      ],
      "metadata": {
        "id": "VhxJJAQP2W_z"
      }
    },
    {
      "cell_type": "code",
      "source": [
        "q1_Pregnancies = np.percentile(HC_DM_df['Pregnancies'], 25)\n",
        "q3_Pregnancies = np.percentile(HC_DM_df['Pregnancies'], 75)\n",
        "IQR_Pregnancies = q3_Pregnancies - q1_Pregnancies\n",
        "print(\"IQR Pregnancies :\", IQR_Pregnancies)"
      ],
      "metadata": {
        "colab": {
          "base_uri": "https://localhost:8080/"
        },
        "id": "_hLRhoIF2agp",
        "outputId": "895205db-23b2-4012-933f-29bf4fd1b84d"
      },
      "execution_count": 57,
      "outputs": [
        {
          "output_type": "stream",
          "name": "stdout",
          "text": [
            "IQR Pregnancies : 5.0\n"
          ]
        }
      ]
    },
    {
      "cell_type": "code",
      "source": [
        "q1_Glucose = np.percentile(HC_DM_df['Glucose'], 25)\n",
        "q3_Glucose = np.percentile(HC_DM_df['Glucose'], 75)\n",
        "IQR_Glucose = q3_Glucose - q1_Glucose\n",
        "print(\"IQR Glucose :\", IQR_Glucose)"
      ],
      "metadata": {
        "colab": {
          "base_uri": "https://localhost:8080/"
        },
        "id": "NwZNfRGw3xkj",
        "outputId": "376be377-23a9-4389-f22b-a025ce9a3013"
      },
      "execution_count": 58,
      "outputs": [
        {
          "output_type": "stream",
          "name": "stdout",
          "text": [
            "IQR Glucose : 42.0\n"
          ]
        }
      ]
    },
    {
      "cell_type": "code",
      "source": [
        "q1_BloodPressure = np.percentile(HC_DM_df['BloodPressure'], 25)\n",
        "q3_BloodPressure = np.percentile(HC_DM_df['BloodPressure'], 75)\n",
        "IQR_BloodPressure = q3_BloodPressure - q1_BloodPressure\n",
        "print(\"IQR BloodPressure :\", IQR_BloodPressure)"
      ],
      "metadata": {
        "colab": {
          "base_uri": "https://localhost:8080/"
        },
        "id": "uPfaQEwY3_vi",
        "outputId": "63fc62ac-e94f-4b63-a19a-6a1891467754"
      },
      "execution_count": 59,
      "outputs": [
        {
          "output_type": "stream",
          "name": "stdout",
          "text": [
            "IQR BloodPressure : 18.0\n"
          ]
        }
      ]
    },
    {
      "cell_type": "code",
      "source": [
        "q1_SkinThickness = np.percentile(HC_DM_df['SkinThickness'], 25)\n",
        "q3_SkinThickness = np.percentile(HC_DM_df['SkinThickness'], 75)\n",
        "IQR_SkinThickness = q3_SkinThickness - q1_SkinThickness\n",
        "print(\"IQR SkinThickness :\", IQR_SkinThickness)"
      ],
      "metadata": {
        "colab": {
          "base_uri": "https://localhost:8080/"
        },
        "id": "kl-v3az24Cf4",
        "outputId": "4673d039-8aff-4df4-b183-bec2ff2e0d0f"
      },
      "execution_count": 60,
      "outputs": [
        {
          "output_type": "stream",
          "name": "stdout",
          "text": [
            "IQR SkinThickness : 32.0\n"
          ]
        }
      ]
    },
    {
      "cell_type": "code",
      "source": [
        "q1_Insulin  = np.percentile(HC_DM_df['Insulin'], 25)\n",
        "q3_Insulin  = np.percentile(HC_DM_df['Insulin'], 75)\n",
        "IQR_Insulin  = q3_Insulin  - q1_Insulin\n",
        "print(\"IQR Insulin :\", IQR_Insulin )"
      ],
      "metadata": {
        "colab": {
          "base_uri": "https://localhost:8080/"
        },
        "id": "K_ZAR3Ih4C-Q",
        "outputId": "6a37fd7f-f0bb-4803-ed21-3e82d3e76250"
      },
      "execution_count": 61,
      "outputs": [
        {
          "output_type": "stream",
          "name": "stdout",
          "text": [
            "IQR Insulin : 130.0\n"
          ]
        }
      ]
    },
    {
      "cell_type": "code",
      "source": [
        "q1_BMI  = np.percentile(HC_DM_df['BMI'], 25)\n",
        "q3_BMI  = np.percentile(HC_DM_df['BMI'], 75)\n",
        "IQR_BMI  = q3_Glucose - q1_BMI\n",
        "print(\"IQR BMI  :\", IQR_BMI )"
      ],
      "metadata": {
        "colab": {
          "base_uri": "https://localhost:8080/"
        },
        "id": "usgFVlE_4DFk",
        "outputId": "ae27a2ad-76cb-49bb-9b3c-33eed2243142"
      },
      "execution_count": 62,
      "outputs": [
        {
          "output_type": "stream",
          "name": "stdout",
          "text": [
            "IQR BMI  : 113.7\n"
          ]
        }
      ]
    },
    {
      "cell_type": "code",
      "source": [
        "q1_DiabetesPedigreeFunction = np.percentile(HC_DM_df['DiabetesPedigreeFunction'], 25)\n",
        "q3_DiabetesPedigreeFunction = np.percentile(HC_DM_df['DiabetesPedigreeFunction'], 75)\n",
        "IQR_DiabetesPedigreeFunction = q3_DiabetesPedigreeFunction - q1_DiabetesPedigreeFunction\n",
        "print(\"IQR DiabetesPedigreeFunction :\", IQR_DiabetesPedigreeFunction)"
      ],
      "metadata": {
        "colab": {
          "base_uri": "https://localhost:8080/"
        },
        "id": "tFbgUXyh4DMV",
        "outputId": "ad8011db-235f-44ca-8c3f-e97b9abd6fbd"
      },
      "execution_count": 63,
      "outputs": [
        {
          "output_type": "stream",
          "name": "stdout",
          "text": [
            "IQR DiabetesPedigreeFunction : 0.38\n"
          ]
        }
      ]
    },
    {
      "cell_type": "code",
      "source": [
        "q1_Age= np.percentile(HC_DM_df['Age'], 25)\n",
        "q3_Age = np.percentile(HC_DM_df['Age'], 75)\n",
        "IQR_Age = q3_Age - q1_Age\n",
        "print(\"IQR Age :\", IQR_Age)"
      ],
      "metadata": {
        "colab": {
          "base_uri": "https://localhost:8080/"
        },
        "id": "Hll4o2uz4DTQ",
        "outputId": "93228f8e-d507-4fd3-9121-45afed6a16fe"
      },
      "execution_count": 64,
      "outputs": [
        {
          "output_type": "stream",
          "name": "stdout",
          "text": [
            "IQR Age : 16.0\n"
          ]
        }
      ]
    },
    {
      "cell_type": "code",
      "source": [
        "q1_Outcome = np.percentile(HC_DM_df['Outcome'], 25)\n",
        "q3_Outcome = np.percentile(HC_DM_df['Outcome'], 75)\n",
        "IQR_Outcome = q3_Outcome - q1_Outcome\n",
        "print(\"IQR Outcome :\", IQR_Outcome)"
      ],
      "metadata": {
        "colab": {
          "base_uri": "https://localhost:8080/"
        },
        "id": "uXfjPzoK4DZ3",
        "outputId": "56b40bab-5f94-40da-8f67-7350ddf4667d"
      },
      "execution_count": 65,
      "outputs": [
        {
          "output_type": "stream",
          "name": "stdout",
          "text": [
            "IQR Outcome : 1.0\n"
          ]
        }
      ]
    },
    {
      "cell_type": "markdown",
      "source": [
        "## Creating Histogram to Visualize the Distribution of Select Numerical Variables"
      ],
      "metadata": {
        "id": "6Lqm9Zy-6ngN"
      }
    },
    {
      "cell_type": "code",
      "source": [
        "plt.figure(figsize=(8, 6))\n",
        "plt.hist(HC_DM_df['Pregnancies'], bins=20, edgecolor='black', alpha=0.7)\n",
        "plt.xlabel('Pregnancies')\n",
        "plt.ylabel('Frequency')\n",
        "plt.title('Histogram of Pregnancies')\n",
        "plt.grid()\n",
        "plt.show()"
      ],
      "metadata": {
        "colab": {
          "base_uri": "https://localhost:8080/",
          "height": 564
        },
        "id": "buFHeo4N69NO",
        "outputId": "3b40bb60-0c3c-47bd-80cb-e87243217243"
      },
      "execution_count": 73,
      "outputs": [
        {
          "output_type": "display_data",
          "data": {
            "text/plain": [
              "<Figure size 800x600 with 1 Axes>"
            ],
            "image/png": "[encoded data removed]"
          },
          "metadata": {}
        }
      ]
    },
    {
      "cell_type": "code",
      "source": [
        "plt.figure(figsize=(8, 6))\n",
        "plt.hist(HC_DM_df['Glucose'], bins=20, edgecolor='black', alpha=0.7)\n",
        "plt.xlabel('Glucose')\n",
        "plt.ylabel('Frequency')\n",
        "plt.title('Histogram of Glucose')\n",
        "plt.grid()\n",
        "plt.show()"
      ],
      "metadata": {
        "colab": {
          "base_uri": "https://localhost:8080/",
          "height": 564
        },
        "id": "nY3VnRvl7er3",
        "outputId": "b8c7e8fc-28f9-4725-fbf9-83bb356e854f"
      },
      "execution_count": 74,
      "outputs": [
        {
          "output_type": "display_data",
          "data": {
            "text/plain": [
              "<Figure size 800x600 with 1 Axes>"
            ],
            "image/png": "[encoded data removed]"
          },
          "metadata": {}
        }
      ]
    },
    {
      "cell_type": "code",
      "source": [
        "plt.figure(figsize=(8, 6))\n",
        "plt.hist(HC_DM_df['BloodPressure'], bins=20, edgecolor='black', alpha=0.7)\n",
        "plt.xlabel('BloodPressure')\n",
        "plt.ylabel('Frequency')\n",
        "plt.title('Histogram of BloodPressure')\n",
        "plt.grid()\n",
        "plt.show()"
      ],
      "metadata": {
        "colab": {
          "base_uri": "https://localhost:8080/",
          "height": 564
        },
        "id": "VNlLJio-7ldT",
        "outputId": "b2459e7f-0d86-41e7-d7d0-75e838e882e4"
      },
      "execution_count": 75,
      "outputs": [
        {
          "output_type": "display_data",
          "data": {
            "text/plain": [
              "<Figure size 800x600 with 1 Axes>"
            ],
            "image/png": "[encoded data removed]"
          },
          "metadata": {}
        }
      ]
    },
    {
      "cell_type": "code",
      "source": [
        "plt.figure(figsize=(8, 6))\n",
        "plt.hist(HC_DM_df['SkinThickness'], bins=20, edgecolor='black', alpha=0.7)\n",
        "plt.xlabel('SkinThickness')\n",
        "plt.ylabel('Frequency')\n",
        "plt.title('Histogram of SkinThickness')\n",
        "plt.grid()\n",
        "plt.show()"
      ],
      "metadata": {
        "colab": {
          "base_uri": "https://localhost:8080/",
          "height": 564
        },
        "id": "7HTQLiu37lk0",
        "outputId": "bffe2c9f-e21b-452d-b85c-818ffa9c4560"
      },
      "execution_count": 76,
      "outputs": [
        {
          "output_type": "display_data",
          "data": {
            "text/plain": [
              "<Figure size 800x600 with 1 Axes>"
            ],
            "image/png": "[encoded data removed]"
          },
          "metadata": {}
        }
      ]
    },
    {
      "cell_type": "code",
      "source": [
        "plt.figure(figsize=(8, 6))\n",
        "plt.hist(HC_DM_df['Insulin'], bins=20, edgecolor='black', alpha=0.7)\n",
        "plt.xlabel('Insulin')\n",
        "plt.ylabel('Frequency')\n",
        "plt.title('Histogram of Insulin')\n",
        "plt.grid()\n",
        "plt.show()"
      ],
      "metadata": {
        "colab": {
          "base_uri": "https://localhost:8080/",
          "height": 564
        },
        "id": "U7WN4Ye-7lrV",
        "outputId": "30335bd4-4f15-4575-f078-3f8ab5c4d17b"
      },
      "execution_count": 77,
      "outputs": [
        {
          "output_type": "display_data",
          "data": {
            "text/plain": [
              "<Figure size 800x600 with 1 Axes>"
            ],
            "image/png": "[encoded data removed]"
          },
          "metadata": {}
        }
      ]
    },
    {
      "cell_type": "code",
      "source": [
        "plt.figure(figsize=(8, 6))\n",
        "plt.hist(HC_DM_df['BMI'], bins=20, edgecolor='black', alpha=0.7)\n",
        "plt.xlabel('BMI')\n",
        "plt.ylabel('Frequency')\n",
        "plt.title('Histogram of BMI')\n",
        "plt.grid()\n",
        "plt.show()"
      ],
      "metadata": {
        "colab": {
          "base_uri": "https://localhost:8080/",
          "height": 564
        },
        "id": "gYgTSS_x7lw9",
        "outputId": "b4077ce0-5fec-4d7d-df86-c58c7062f5d8"
      },
      "execution_count": 78,
      "outputs": [
        {
          "output_type": "display_data",
          "data": {
            "text/plain": [
              "<Figure size 800x600 with 1 Axes>"
            ],
            "image/png": "[encoded data removed]"
          },
          "metadata": {}
        }
      ]
    },
    {
      "cell_type": "code",
      "source": [
        "plt.figure(figsize=(8, 6))\n",
        "plt.hist(HC_DM_df['DiabetesPedigreeFunction'], bins=20, edgecolor='black', alpha=0.7)\n",
        "plt.xlabel('DiabetesPedigreeFunction')\n",
        "plt.ylabel('Frequency')\n",
        "plt.title('Histogram of DiabetesPedigreeFunction')\n",
        "plt.grid()\n",
        "plt.show()"
      ],
      "metadata": {
        "colab": {
          "base_uri": "https://localhost:8080/",
          "height": 564
        },
        "id": "nNm6GQ3X7l2g",
        "outputId": "9ab7d90a-f974-4035-8a1e-ebe8fdf2d733"
      },
      "execution_count": 79,
      "outputs": [
        {
          "output_type": "display_data",
          "data": {
            "text/plain": [
              "<Figure size 800x600 with 1 Axes>"
            ],
            "image/png": "[encoded data removed]"
          },
          "metadata": {}
        }
      ]
    },
    {
      "cell_type": "code",
      "source": [
        "plt.figure(figsize=(8, 6))\n",
        "plt.hist(HC_DM_df['Age'], bins=20, edgecolor='black', alpha=0.7)\n",
        "plt.xlabel('Age')\n",
        "plt.ylabel('Frequency')\n",
        "plt.title('Histogram of Age')\n",
        "plt.grid()\n",
        "plt.show()"
      ],
      "metadata": {
        "colab": {
          "base_uri": "https://localhost:8080/",
          "height": 564
        },
        "id": "WO-3ikJU7l6Z",
        "outputId": "a3148fdd-3462-408c-edfe-db641a09d95b"
      },
      "execution_count": 80,
      "outputs": [
        {
          "output_type": "display_data",
          "data": {
            "text/plain": [
              "<Figure size 800x600 with 1 Axes>"
            ],
            "image/png": "[encoded data removed]"
          },
          "metadata": {}
        }
      ]
    },
    {
      "cell_type": "code",
      "source": [
        "plt.figure(figsize=(8, 6))\n",
        "plt.hist(HC_DM_df['Outcome'], bins=20, edgecolor='black', alpha=0.7)\n",
        "plt.xlabel('Outcome')\n",
        "plt.ylabel('Frequency')\n",
        "plt.title('Histogram of Outcome')\n",
        "plt.grid()\n",
        "plt.show()"
      ],
      "metadata": {
        "colab": {
          "base_uri": "https://localhost:8080/",
          "height": 564
        },
        "id": "_S3HIqZi7l-9",
        "outputId": "0fcdb18e-4338-4846-cafb-c6617d2b8b18"
      },
      "execution_count": 81,
      "outputs": [
        {
          "output_type": "display_data",
          "data": {
            "text/plain": [
              "<Figure size 800x600 with 1 Axes>"
            ],
            "image/png": "[encoded data removed]"
          },
          "metadata": {}
        }
      ]
    },
    {
      "cell_type": "markdown",
      "source": [
        "# Handling Outliers"
      ],
      "metadata": {
        "id": "Kcr8UIA39LDY"
      }
    },
    {
      "cell_type": "markdown",
      "source": [
        "##  Identify outliers using the IQR method"
      ],
      "metadata": {
        "id": "crrZxL7Z9pAK"
      }
    },
    {
      "cell_type": "markdown",
      "source": [
        "### Here I am setting the threshold for outlier detection and identify outliers."
      ],
      "metadata": {
        "id": "4vUOf-vz9_gF"
      }
    },
    {
      "cell_type": "code",
      "source": [
        "threshold_lower_Pregnancies = q1_Pregnancies - 1.5 * IQR_Pregnancies\n",
        "threshold_upper_Pregnancies = q3_Pregnancies + 1.5 * IQR_Pregnancies\n",
        "outliers_Pregnancies = [x for x in HC_DM_df['Pregnancies'] if x < threshold_lower_Pregnancies or x > threshold_upper_Pregnancies]\n",
        "print(\"Outliers Pregnancies :\", outliers_Pregnancies)"
      ],
      "metadata": {
        "colab": {
          "base_uri": "https://localhost:8080/"
        },
        "id": "mVOAAQbJ9OmK",
        "outputId": "cf8e819d-0b2b-4aa6-9d8e-5021ac2b4ff8"
      },
      "execution_count": 84,
      "outputs": [
        {
          "output_type": "stream",
          "name": "stdout",
          "text": [
            "Outliers Pregnancies : [15, 17, 14, 14, 15, 17, 14, 14, 14, 14, 14, 17, 14, 14, 15, 17]\n"
          ]
        }
      ]
    },
    {
      "cell_type": "code",
      "source": [
        "threshold_lower_Glucose = q1_Glucose - 1.5 * IQR_Glucose\n",
        "threshold_upper_Glucose = q3_Glucose + 1.5 * IQR_Glucose\n",
        "outliers_Glucose = [x for x in HC_DM_df['Glucose'] if x < threshold_lower_Glucose or x > threshold_upper_Glucose]\n",
        "print(\"Outliers Glucose :\", outliers_Glucose)"
      ],
      "metadata": {
        "colab": {
          "base_uri": "https://localhost:8080/"
        },
        "id": "CTWoElZL_37W",
        "outputId": "28a863a6-019b-4c5f-8cef-55943adfec20"
      },
      "execution_count": 85,
      "outputs": [
        {
          "output_type": "stream",
          "name": "stdout",
          "text": [
            "Outliers Glucose : [0, 0, 0, 0, 0, 0, 0, 0, 0, 0, 0, 0, 0, 0, 0, 0, 0, 0]\n"
          ]
        }
      ]
    },
    {
      "cell_type": "code",
      "source": [
        "threshold_lower_BloodPressure = q1_BloodPressure - 1.5 * IQR_BloodPressure\n",
        "threshold_upper_BloodPressure = q3_BloodPressure + 1.5 * IQR_BloodPressure\n",
        "outliers_BloodPressure = [x for x in HC_DM_df['BloodPressure'] if x < threshold_lower_BloodPressure or x > threshold_upper_BloodPressure]\n",
        "print(\"Outliers BloodPressure :\", outliers_BloodPressure)"
      ],
      "metadata": {
        "colab": {
          "base_uri": "https://localhost:8080/"
        },
        "id": "w_ew0IYG_9Ds",
        "outputId": "698ae421-8bd0-439f-b62f-a2cf3ce0ff0f"
      },
      "execution_count": 86,
      "outputs": [
        {
          "output_type": "stream",
          "name": "stdout",
          "text": [
            "Outliers BloodPressure : [0, 0, 30, 110, 0, 0, 0, 0, 108, 122, 30, 0, 110, 0, 0, 0, 0, 0, 0, 0, 0, 0, 0, 108, 0, 0, 0, 0, 0, 0, 0, 0, 0, 0, 110, 0, 24, 0, 0, 0, 0, 114, 0, 0, 0, 0, 0, 110, 0, 0, 0, 0, 108, 122, 30, 0, 110, 0, 0, 0, 0, 0, 0, 0, 0, 0, 0, 108, 0, 0, 0, 0, 0, 0, 0, 0, 0, 0, 110, 0, 24, 0, 0, 0, 0, 114, 0, 0, 0, 0, 0, 0, 0, 0, 108, 0, 0, 0, 0, 0, 0, 0, 0, 0, 110, 0, 24, 0, 0, 0, 0, 114, 0, 0, 0, 0, 122, 30, 0, 110, 0, 0, 0, 0, 0, 0, 0, 0, 0, 0, 0, 0, 0, 0, 0, 0, 0, 108, 0, 0, 0, 0, 0, 0, 114, 0, 0, 0, 110, 0, 0, 0, 0, 108, 122, 30, 0, 110]\n"
          ]
        }
      ]
    },
    {
      "cell_type": "code",
      "source": [
        "threshold_lower_SkinThickness = q1_SkinThickness - 1.5 * IQR_SkinThickness\n",
        "threshold_upper_SkinThickness = q3_SkinThickness + 1.5 * IQR_SkinThickness\n",
        "outliers_SkinThickness = [x for x in HC_DM_df['SkinThickness'] if x < threshold_lower_SkinThickness or x > threshold_upper_SkinThickness]\n",
        "print(\"Outliers SkinThickness :\", outliers_SkinThickness)"
      ],
      "metadata": {
        "colab": {
          "base_uri": "https://localhost:8080/"
        },
        "id": "oK-pFRRW_9QO",
        "outputId": "670147d6-ad9b-4d68-8c80-f0879bc8a2ef"
      },
      "execution_count": 87,
      "outputs": [
        {
          "output_type": "stream",
          "name": "stdout",
          "text": [
            "Outliers SkinThickness : [99, 99, 99, 110, 110]\n"
          ]
        }
      ]
    },
    {
      "cell_type": "code",
      "source": [
        "threshold_lower_Insulin = q1_Insulin - 1.5 * IQR_Insulin\n",
        "threshold_upper_Insulin = q3_Insulin + 1.5 * IQR_Insulin\n",
        "outliers_Insulin = [x for x in HC_DM_df['Insulin'] if x < threshold_lower_Insulin or x > threshold_upper_Insulin]\n",
        "print(\"Outliers Insulin :\", outliers_Insulin)"
      ],
      "metadata": {
        "colab": {
          "base_uri": "https://localhost:8080/"
        },
        "id": "myL94TQx_9W1",
        "outputId": "0aad6653-7b1a-4885-f0a4-7459bb85ec52"
      },
      "execution_count": 88,
      "outputs": [
        {
          "output_type": "stream",
          "name": "stdout",
          "text": [
            "Outliers Insulin : [543, 846, 342, 495, 485, 495, 478, 744, 370, 680, 402, 375, 545, 360, 465, 415, 579, 474, 328, 480, 326, 330, 600, 440, 540, 480, 335, 387, 392, 510, 480, 342, 495, 485, 495, 478, 744, 370, 680, 402, 375, 545, 360, 465, 415, 579, 474, 328, 480, 326, 330, 600, 440, 540, 480, 335, 387, 392, 510, 465, 415, 579, 474, 328, 480, 330, 600, 440, 540, 480, 335, 387, 392, 510, 495, 485, 495, 478, 744, 370, 680, 402, 375, 545, 360, 579, 474, 328, 480, 465, 415, 579, 474, 440, 540, 480, 335, 387, 392, 510, 342, 495, 485]\n"
          ]
        }
      ]
    },
    {
      "cell_type": "code",
      "source": [
        "threshold_lower_BMI = q1_BMI - 1.5 * IQR_BMI\n",
        "threshold_upper_BMI = q3_BMI + 1.5 * IQR_BMI\n",
        "outliers_BMI = [x for x in HC_DM_df['BMI'] if x < threshold_lower_BMI or x > threshold_upper_BMI]\n",
        "print(\"Outliers BMI :\", outliers_BMI)"
      ],
      "metadata": {
        "colab": {
          "base_uri": "https://localhost:8080/"
        },
        "id": "PIIDAMH6_9cD",
        "outputId": "802b7404-5de6-4be5-ff0a-cd51eef2895e"
      },
      "execution_count": 89,
      "outputs": [
        {
          "output_type": "stream",
          "name": "stdout",
          "text": [
            "Outliers BMI : []\n"
          ]
        }
      ]
    },
    {
      "cell_type": "code",
      "source": [
        "threshold_lower_DiabetesPedigreeFunction = q1_DiabetesPedigreeFunction - 1.5 * IQR_DiabetesPedigreeFunction\n",
        "threshold_upper_DiabetesPedigreeFunction = q3_DiabetesPedigreeFunction + 1.5 * IQR_DiabetesPedigreeFunction\n",
        "outliers_DiabetesPedigreeFunction = [x for x in HC_DM_df['DiabetesPedigreeFunction'] if x < threshold_lower_DiabetesPedigreeFunction or x > threshold_upper_DiabetesPedigreeFunction]\n",
        "print(\"Outliers DiabetesPedigreeFunction :\", outliers_DiabetesPedigreeFunction)"
      ],
      "metadata": {
        "colab": {
          "base_uri": "https://localhost:8080/"
        },
        "id": "s59-jQ1o_9g8",
        "outputId": "4675b5f7-ba5e-4172-f7c3-a5f0e5d8d194"
      },
      "execution_count": 90,
      "outputs": [
        {
          "output_type": "stream",
          "name": "stdout",
          "text": [
            "Outliers DiabetesPedigreeFunction : [2.288, 1.441, 1.39, 1.893, 1.781, 1.222, 1.4, 1.321, 1.224, 2.329, 1.318, 1.213, 1.353, 1.224, 1.391, 1.476, 2.137, 1.731, 1.268, 1.6, 2.42, 1.251, 1.699, 1.258, 1.282, 1.698, 1.461, 1.292, 1.394, 1.39, 1.893, 1.781, 1.222, 1.4, 1.321, 1.224, 2.329, 1.318, 1.213, 1.353, 1.224, 1.391, 1.476, 2.137, 1.731, 1.268, 1.6, 2.42, 1.251, 1.699, 1.258, 1.282, 1.698, 1.461, 1.292, 1.394, 1.391, 1.476, 2.137, 1.731, 1.268, 1.6, 2.42, 1.251, 1.699, 1.258, 1.282, 1.698, 1.461, 1.292, 1.394, 1.391, 1.222, 1.4, 1.321, 1.224, 2.329, 1.318, 1.213, 1.353, 1.224, 2.42, 2.137, 1.731, 1.268, 1.6, 1.258, 1.282, 1.698, 1.461, 1.292, 1.394, 1.39, 1.893, 1.781, 1.222, 1.4]\n"
          ]
        }
      ]
    },
    {
      "cell_type": "code",
      "source": [
        "threshold_lower_Age = q1_Age - 1.5 * IQR_Age\n",
        "threshold_upper_Age = q3_Age + 1.5 * IQR_Age\n",
        "outliers_Age = [x for x in HC_DM_df['Age'] if x < threshold_lower_Age or x > threshold_upper_Age]\n",
        "print(\"Outliers Age :\", outliers_Age)"
      ],
      "metadata": {
        "colab": {
          "base_uri": "https://localhost:8080/"
        },
        "id": "4_5SSKWn_9lE",
        "outputId": "a9cd74df-495e-4d4c-e0b6-765db4ef05d2"
      },
      "execution_count": 91,
      "outputs": [
        {
          "output_type": "stream",
          "name": "stdout",
          "text": [
            "Outliers Age : [69, 65, 66, 65, 65, 67, 72, 81, 67, 66, 67, 66, 70, 68, 69, 66, 67, 66, 69, 65, 66, 65, 65, 67, 72, 81, 67, 66, 67, 66, 70, 68, 69, 66, 65, 67, 72, 81, 67, 66, 67, 66, 70, 68, 69, 66, 69, 65, 66, 65, 72, 81, 67, 66, 67, 66, 65, 67, 70, 68, 69, 66, 69, 65]\n"
          ]
        }
      ]
    },
    {
      "cell_type": "code",
      "source": [
        "threshold_lower_Outcome = q1_Outcome - 1.5 * IQR_Outcome\n",
        "threshold_upper_Outcome = q3_Outcome + 1.5 * IQR_Outcome\n",
        "outliers_Outcome = [x for x in HC_DM_df['Outcome'] if x < threshold_lower_Outcome or x > threshold_upper_Outcome]\n",
        "print(\"Outliers Outcome :\", outliers_Outcome)"
      ],
      "metadata": {
        "colab": {
          "base_uri": "https://localhost:8080/"
        },
        "id": "6vS624uV_9pM",
        "outputId": "589ddcd8-5246-4851-b6d6-346640d45597"
      },
      "execution_count": 92,
      "outputs": [
        {
          "output_type": "stream",
          "name": "stdout",
          "text": [
            "Outliers Outcome : []\n"
          ]
        }
      ]
    },
    {
      "cell_type": "markdown",
      "source": [
        "## Below is how I decided on an approach to handle the outliers for each coulmn.  "
      ],
      "metadata": {
        "id": "wgyMKLkREW-J"
      }
    },
    {
      "cell_type": "markdown",
      "source": [
        "### Pregnancies: For Pregnancies I would handle the outliers by retaining because it is possible to have that many pregnancies."
      ],
      "metadata": {
        "id": "_gpFQlGnEqvC"
      }
    },
    {
      "cell_type": "markdown",
      "source": [
        "### Glucose: For Glucose I would handle the outliers by removing because it is not possible to have 0 values for glucose.\n"
      ],
      "metadata": {
        "id": "KK5NyKrwE8cY"
      }
    },
    {
      "cell_type": "markdown",
      "source": [
        "### BloodPressure: For BloodPressure I would handle the outliers by removing because it is not possible to have those values for blood pressure."
      ],
      "metadata": {
        "id": "n6WllzUHGB5A"
      }
    },
    {
      "cell_type": "markdown",
      "source": [
        "### SkinThickness: For SkinThickness I would handle the outliers by retaining because it is possible to have those values."
      ],
      "metadata": {
        "id": "_XLE6ndsGp6h"
      }
    },
    {
      "cell_type": "markdown",
      "source": [
        "### Insulin: For Insulin I would handle the outliers by  retaining because it is possible to have those values."
      ],
      "metadata": {
        "id": "8aDOrvPHGqKC"
      }
    },
    {
      "cell_type": "markdown",
      "source": [
        "### BMI: BMI had no outliers, see code above."
      ],
      "metadata": {
        "id": "Zh5TOoEuGq5k"
      }
    },
    {
      "cell_type": "markdown",
      "source": [
        "### DiabetesPedigreeFunction: For DiabetesPedigreeFunction I would handle the outliers by retaining because it is possible to have those values."
      ],
      "metadata": {
        "id": "RbS_sSr-GrDd"
      }
    },
    {
      "cell_type": "markdown",
      "source": [
        "### Age: For Age I would handle  the outliers by retaining because because it is possible to have those values."
      ],
      "metadata": {
        "id": "oN1lYpdgGrLd"
      }
    },
    {
      "cell_type": "markdown",
      "source": [
        "### Outcome: Outcome had no outliers, see code above."
      ],
      "metadata": {
        "id": "l6bkLJTVGrQ0"
      }
    },
    {
      "cell_type": "markdown",
      "source": [
        "# Automate Analysis"
      ],
      "metadata": {
        "id": "lJCP4oInJHg0"
      }
    },
    {
      "cell_type": "markdown",
      "source": [
        "## Generating EDA report"
      ],
      "metadata": {
        "id": "jdV_qtEAJPP2"
      }
    },
    {
      "cell_type": "code",
      "source": [
        "report = ProfileReport(HC_DM_df)\n",
        "report.to_file('eda_report.html')"
      ],
      "metadata": {
        "colab": {
          "base_uri": "https://localhost:8080/",
          "height": 145,
          "referenced_widgets": [
            "52e9d65837ad492084aca88ad8ad85d3",
            "90f48d5bc92b4493ab914d2f01fe9109",
            "c76d6940b1ad438b9e8086c605fad299",
            "a6fc746836ef4d0bab158a8bba7e566d",
            "4761bfde8fd0415d97ced27f1242191b",
            "8a5c72f4e98342889dd7378754da25a2",
            "f0961eca49e04bd39c13509464cf963a",
            "333e10eee74d4510814495a3f9eb1ef0",
            "4394efc33f284b6da7f5d17881cd340d",
            "8863186effa4445686fc660817894ed8",
            "fbd5b76ad16c4c33a1bb8bcd6b02d640",
            "b13ec18348284892bb8de6ead3f1830c",
            "c6a1e55935b14f758f6f34890244011d",
            "11b4d87ce3b74ea4b4acb0fcaca56dba",
            "01ac0404023d4bd3927a5843a4c9f3bd",
            "5f5f86ab0c384daea57389c8b3f50624",
            "a90f5582557d43a391eaa89bbb31deb6",
            "241dedeef6b540e89d03f9de08e310c1",
            "0a9176ad812b47f3b59592ca4337938e",
            "23d937029fdf49fdb487b39766dee37b",
            "c50ea56449324740847046eef2cc8c9f",
            "29caf8e10321463dbd36a489b8480b4c",
            "04168c473e7a409abf2597c4994703ee",
            "892435eb748147c5b83ea8b1b55cca2a",
            "5867a267129845c0a316306791333e54",
            "6a21a1668f7a429c92b6b4d723a3ea1a",
            "68f5349a234943098f025a89fe755608",
            "20e7c723c1a94818ba257b298f531c76",
            "399d187f16aa454d8ca72e333b72cdbb",
            "f449e287cf304c768f42ba43ba845aac",
            "2abc655dd0d74a869d75edcbae2a40a6",
            "4d900062dff1484a933d42b4dbae9c31",
            "2e9774fb757144c1bc5f5a3049e69f57",
            "e90a37e8268242a0a95eeda8ab33ffe0",
            "de352979a44a4f8a97e91ae345f816ee",
            "b3c35e16764f4fe29dbe3e2c4d04c037",
            "8b21fbdf0fb04e01b2bd332d00ed85bd",
            "4b9bc4cbe3e6410d8477dfe54503c804",
            "beb5bff510f946c7b3e43a3e21e8b711",
            "b6acd118affd4d89bb95d46736a5228a",
            "0b1e3e74dc35486dbd6a4f829288edad",
            "e7189b84a5d84eccae7f2cb149970f8e",
            "376acd33c9924686ae5410bfcb1a698f",
            "636d17c83c4f44df90e2973e66a3cb11"
          ]
        },
        "id": "G3CZIroCJXYl",
        "outputId": "297020d4-446a-47a0-f12d-b766459c95f5"
      },
      "execution_count": 98,
      "outputs": [
        {
          "output_type": "display_data",
          "data": {
            "text/plain": [
              "Summarize dataset:   0%|          | 0/5 [00:00<?, ?it/s]"
            ],
            "application/vnd.jupyter.widget-view+json": {
              "version_major": 2,
              "version_minor": 0,
              "model_id": "52e9d65837ad492084aca88ad8ad85d3"
            }
          },
          "metadata": {}
        },
        {
          "output_type": "display_data",
          "data": {
            "text/plain": [
              "Generate report structure:   0%|          | 0/1 [00:00<?, ?it/s]"
            ],
            "application/vnd.jupyter.widget-view+json": {
              "version_major": 2,
              "version_minor": 0,
              "model_id": "b13ec18348284892bb8de6ead3f1830c"
            }
          },
          "metadata": {}
        },
        {
          "output_type": "display_data",
          "data": {
            "text/plain": [
              "Render HTML:   0%|          | 0/1 [00:00<?, ?it/s]"
            ],
            "application/vnd.jupyter.widget-view+json": {
              "version_major": 2,
              "version_minor": 0,
              "model_id": "04168c473e7a409abf2597c4994703ee"
            }
          },
          "metadata": {}
        },
        {
          "output_type": "display_data",
          "data": {
            "text/plain": [
              "Export report to file:   0%|          | 0/1 [00:00<?, ?it/s]"
            ],
            "application/vnd.jupyter.widget-view+json": {
              "version_major": 2,
              "version_minor": 0,
              "model_id": "e90a37e8268242a0a95eeda8ab33ffe0"
            }
          },
          "metadata": {}
        }
      ]
    }
  ]
}